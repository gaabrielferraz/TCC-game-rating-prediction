{
 "cells": [
  {
   "cell_type": "code",
   "execution_count": 30,
   "metadata": {},
   "outputs": [],
   "source": [
    "import pandas as pd\n",
    "\n",
    "import plotly.graph_objects as go\n",
    "from IPython.display import SVG, display\n",
    "import plotly.io as pio \n",
    "\n",
    "from sklearn.feature_selection import RFECV\n",
    "from sklearn.linear_model import LogisticRegression\n",
    "\n",
    "import warnings\n",
    "warnings.filterwarnings(\"ignore\")"
   ]
  },
  {
   "attachments": {},
   "cell_type": "markdown",
   "metadata": {},
   "source": [
    "# Análise dos dados - IMDB Jogos\n",
    "\n",
    "## Dicionário de dados\n",
    "\n",
    "| Índice | Nome da Coluna | Tipo de Coluna | Descrição\n",
    "|:--: | :--: | :--: | :--: |\n",
    "|0  | title                    | categorica nominal | Title\n",
    "|1  | console                  | categorica nominal | A consola em que o jogo foi lançado\n",
    "|2  | alcohol_reference        | categorica nominal | Referência a bebidas alcoólicas e/ou imagens de bebidas alcoólicas. \n",
    "|3  | animated_blood           | categorica nominal | Representações descoloradas e/ou irrealistas de sangue.\n",
    "|4  | blood                    | categorica nominal | Representações de sangue.\n",
    "|5  | blood_and_gore           | categorica nominal | Representações de sangue ou de mutilação de partes do corpo. \n",
    "|6  | cartoon_violence         | categorica nominal | Acções violentas que envolvem situações e personagens de desenhos animados.\n",
    "|7  | crude_humor              | categorica nominal | Representações ou diálogos que envolvam cenas vulgares, incluindo humor de \"casa de banho\".\n",
    "|8  | drug_reference           | categorica nominal | Referência e/ou imagens de drogas ilegais.\n",
    "|9  | fantasy_violence         | categorica nominal | Acções violentas de natureza fantasiosa, envolvendo personagens humanas ou não humanas em situações facilmente distinguíveis da vida real.\n",
    "|10 | intense_violence         | categorica nominal | Representações gráficas e realistas de conflitos físicos. Envolve sangue extremo e/ou realista, armas e representações de ferimentos e mortes humanas. \n",
    "|11 | language                 | categorica nominal | Utilização moderada de palavrões.\n",
    "|12 | lyrics                   | categorica nominal | Referências a profanação, sexualidade, violência, álcool ou consumo de drogas na música.\n",
    "|13 | mature_humor             | categorica nominal | Representações ou diálogos que envolvam humor \"adulto\", incluindo referências sexuais.\n",
    "|14 | mild_blood               | categorica nominal | Algum sangue\n",
    "|15 | mild_cartoon_violence    | categorica nominal | Algumas acções violentas envolvendo desenhos animados.\n",
    "|16 | mild_fantasy_violence    | categorica nominal | Algumas acções violentas de natureza fantasiosa.\n",
    "|17 | mild_language            | categorica nominal | Utilização ligeira a moderada de palavrões.\n",
    "|18 | mild_lyrics              | categorica nominal | Referências ligeiras a profanação, sexualidade, violência, álcool ou consumo de drogas na música.\n",
    "|19 | mild_suggestive_themes   | categorica nominal | algumas referências ou materiais provocadores\n",
    "|20 | mild_violence            | categorica nominal | Algumas cenas que envolvem conflitos agressivos.\n",
    "|21 | no_descriptors           | categorica nominal | Não há descritores de conteúdo. \n",
    "|22 | nudity                   | categorica nominal | Representações gráficas ou prolongadas de nudez.\n",
    "|23 | partial_nudity           | categorica nominal | Representações breves e/ou ligeiras de nudez.\n",
    "|24 | sexual_content           | categorica nominal | Representações não explícitas de comportamentos sexuais, incluindo eventualmente nudez parcial.\n",
    "|25 | sexual_themes            | categorica nominal | Referências a sexo ou sexualidade. \n",
    "|26 | simulated_gambling       | categorica nominal | O jogador pode jogar sem apostar ou apostar dinheiro ou moeda real. \n",
    "|27 | strong_janguage          | categorica nominal | Utilização explícita e/ou frequente de palavrões.\n",
    "|28 | strong_sexual_content    | categorica nominal | Representações explícitas e/ou frequentes de comportamentos sexuais, possivelmente incluindo nudez.\n",
    "|29 | suggestive_themes        | categorica nominal | Referências ou materiais provocadores.\n",
    "|30 | use_of_alcohol           | categorica nominal | O consumo de bebidas alcoólicas.\n",
    "|31 | use_of_drugs_and_alcohol | categorica nominal | O consumo de bebidas alcoólicas e de drogas.\n",
    "|32 | violence                 | categorica nominal | Cenas de conflito agressivo. Pode conter desmembramentos sem sangue.\n",
    "|33 | esrb_rating              | categorica nominal | Classificação: RP - EC - E - E+10 - T - M - A\n",
    "\n",
    "## Etapas de desenvolvimento\n",
    "\n",
    "<ul>\n",
    "<li>Análise de dimensionalidade dos dados</li>\n",
    "<li>Análise de nulos e tipagem das variáveis</li>\n",
    "<li>Análise visual de dimensionalidade da coluna alvo</li>\n",
    "<li>Análise empírica de seleção de colunas</li>\n",
    "<li>Seleção de colunas utilizando RFECV e RFE</li>\n",
    "</ul>"
   ]
  },
  {
   "attachments": {},
   "cell_type": "markdown",
   "metadata": {},
   "source": [
    "# Análise de dados"
   ]
  },
  {
   "attachments": {},
   "cell_type": "markdown",
   "metadata": {},
   "source": [
    "## Análise de dimensionalidade de dados"
   ]
  },
  {
   "cell_type": "code",
   "execution_count": 31,
   "metadata": {},
   "outputs": [],
   "source": [
    "df = pd.read_csv(r'.\\Video_games_esrb_rating.csv')"
   ]
  },
  {
   "cell_type": "code",
   "execution_count": 32,
   "metadata": {},
   "outputs": [
    {
     "name": "stdout",
     "output_type": "stream",
     "text": [
      "A base de dados contêm: 1895 linhas\n",
      "A base de dados contêm: 34 colunas\n"
     ]
    }
   ],
   "source": [
    "print(f'A base de dados contêm: {df.shape[0]} linhas')\n",
    "print(f'A base de dados contêm: {df.shape[1]} colunas')"
   ]
  },
  {
   "attachments": {},
   "cell_type": "markdown",
   "metadata": {},
   "source": [
    "## Análise de nulos e tipagem das variáveis"
   ]
  },
  {
   "cell_type": "code",
   "execution_count": 33,
   "metadata": {},
   "outputs": [],
   "source": [
    "def search_nulls(dataframe):\n",
    "    if df[df.isnull()].dropna().shape[0] == 0:\n",
    "        print('A base de dados não contêm nulos !')\n",
    "    else:\n",
    "        print(f'A base de dados contêm: {df[df.isnull()].dropna().shape[1]} nulos')"
   ]
  },
  {
   "cell_type": "code",
   "execution_count": 34,
   "metadata": {},
   "outputs": [
    {
     "name": "stdout",
     "output_type": "stream",
     "text": [
      "A base de dados não contêm nulos !\n"
     ]
    }
   ],
   "source": [
    "search_nulls(df)"
   ]
  },
  {
   "cell_type": "code",
   "execution_count": 35,
   "metadata": {},
   "outputs": [
    {
     "name": "stdout",
     "output_type": "stream",
     "text": [
      "<class 'pandas.core.frame.DataFrame'>\n",
      "RangeIndex: 1895 entries, 0 to 1894\n",
      "Data columns (total 34 columns):\n",
      " #   Column                    Non-Null Count  Dtype \n",
      "---  ------                    --------------  ----- \n",
      " 0   title                     1895 non-null   object\n",
      " 1   console                   1895 non-null   int64 \n",
      " 2   alcohol_reference         1895 non-null   int64 \n",
      " 3   animated_blood            1895 non-null   int64 \n",
      " 4   blood                     1895 non-null   int64 \n",
      " 5   blood_and_gore            1895 non-null   int64 \n",
      " 6   cartoon_violence          1895 non-null   int64 \n",
      " 7   crude_humor               1895 non-null   int64 \n",
      " 8   drug_reference            1895 non-null   int64 \n",
      " 9   fantasy_violence          1895 non-null   int64 \n",
      " 10  intense_violence          1895 non-null   int64 \n",
      " 11  language                  1895 non-null   int64 \n",
      " 12  lyrics                    1895 non-null   int64 \n",
      " 13  mature_humor              1895 non-null   int64 \n",
      " 14  mild_blood                1895 non-null   int64 \n",
      " 15  mild_cartoon_violence     1895 non-null   int64 \n",
      " 16  mild_fantasy_violence     1895 non-null   int64 \n",
      " 17  mild_language             1895 non-null   int64 \n",
      " 18  mild_lyrics               1895 non-null   int64 \n",
      " 19  mild_suggestive_themes    1895 non-null   int64 \n",
      " 20  mild_violence             1895 non-null   int64 \n",
      " 21  no_descriptors            1895 non-null   int64 \n",
      " 22  nudity                    1895 non-null   int64 \n",
      " 23  partial_nudity            1895 non-null   int64 \n",
      " 24  sexual_content            1895 non-null   int64 \n",
      " 25  sexual_themes             1895 non-null   int64 \n",
      " 26  simulated_gambling        1895 non-null   int64 \n",
      " 27  strong_janguage           1895 non-null   int64 \n",
      " 28  strong_sexual_content     1895 non-null   int64 \n",
      " 29  suggestive_themes         1895 non-null   int64 \n",
      " 30  use_of_alcohol            1895 non-null   int64 \n",
      " 31  use_of_drugs_and_alcohol  1895 non-null   int64 \n",
      " 32  violence                  1895 non-null   int64 \n",
      " 33  esrb_rating               1895 non-null   object\n",
      "dtypes: int64(32), object(2)\n",
      "memory usage: 503.5+ KB\n"
     ]
    }
   ],
   "source": [
    "df.info()"
   ]
  },
  {
   "attachments": {},
   "cell_type": "markdown",
   "metadata": {},
   "source": [
    "## Análise visual de dimensionalidade da coluna alvo"
   ]
  },
  {
   "cell_type": "code",
   "execution_count": 36,
   "metadata": {},
   "outputs": [
    {
     "data": {
      "application/vnd.plotly.v1+json": {
       "config": {
        "plotlyServerURL": "https://plot.ly"
       },
       "data": [
        {
         "marker": {
          "color": [
           "blue",
           "red",
           "yellow",
           "purple"
          ]
         },
         "type": "bar",
         "x": [
          "T",
          "E",
          "ET",
          "M"
         ],
         "y": [
          689,
          416,
          403,
          387
         ]
        }
       ],
       "layout": {
        "height": 500,
        "template": {
         "data": {
          "bar": [
           {
            "error_x": {
             "color": "#2a3f5f"
            },
            "error_y": {
             "color": "#2a3f5f"
            },
            "marker": {
             "line": {
              "color": "#E5ECF6",
              "width": 0.5
             },
             "pattern": {
              "fillmode": "overlay",
              "size": 10,
              "solidity": 0.2
             }
            },
            "type": "bar"
           }
          ],
          "barpolar": [
           {
            "marker": {
             "line": {
              "color": "#E5ECF6",
              "width": 0.5
             },
             "pattern": {
              "fillmode": "overlay",
              "size": 10,
              "solidity": 0.2
             }
            },
            "type": "barpolar"
           }
          ],
          "carpet": [
           {
            "aaxis": {
             "endlinecolor": "#2a3f5f",
             "gridcolor": "white",
             "linecolor": "white",
             "minorgridcolor": "white",
             "startlinecolor": "#2a3f5f"
            },
            "baxis": {
             "endlinecolor": "#2a3f5f",
             "gridcolor": "white",
             "linecolor": "white",
             "minorgridcolor": "white",
             "startlinecolor": "#2a3f5f"
            },
            "type": "carpet"
           }
          ],
          "choropleth": [
           {
            "colorbar": {
             "outlinewidth": 0,
             "ticks": ""
            },
            "type": "choropleth"
           }
          ],
          "contour": [
           {
            "colorbar": {
             "outlinewidth": 0,
             "ticks": ""
            },
            "colorscale": [
             [
              0,
              "#0d0887"
             ],
             [
              0.1111111111111111,
              "#46039f"
             ],
             [
              0.2222222222222222,
              "#7201a8"
             ],
             [
              0.3333333333333333,
              "#9c179e"
             ],
             [
              0.4444444444444444,
              "#bd3786"
             ],
             [
              0.5555555555555556,
              "#d8576b"
             ],
             [
              0.6666666666666666,
              "#ed7953"
             ],
             [
              0.7777777777777778,
              "#fb9f3a"
             ],
             [
              0.8888888888888888,
              "#fdca26"
             ],
             [
              1,
              "#f0f921"
             ]
            ],
            "type": "contour"
           }
          ],
          "contourcarpet": [
           {
            "colorbar": {
             "outlinewidth": 0,
             "ticks": ""
            },
            "type": "contourcarpet"
           }
          ],
          "heatmap": [
           {
            "colorbar": {
             "outlinewidth": 0,
             "ticks": ""
            },
            "colorscale": [
             [
              0,
              "#0d0887"
             ],
             [
              0.1111111111111111,
              "#46039f"
             ],
             [
              0.2222222222222222,
              "#7201a8"
             ],
             [
              0.3333333333333333,
              "#9c179e"
             ],
             [
              0.4444444444444444,
              "#bd3786"
             ],
             [
              0.5555555555555556,
              "#d8576b"
             ],
             [
              0.6666666666666666,
              "#ed7953"
             ],
             [
              0.7777777777777778,
              "#fb9f3a"
             ],
             [
              0.8888888888888888,
              "#fdca26"
             ],
             [
              1,
              "#f0f921"
             ]
            ],
            "type": "heatmap"
           }
          ],
          "heatmapgl": [
           {
            "colorbar": {
             "outlinewidth": 0,
             "ticks": ""
            },
            "colorscale": [
             [
              0,
              "#0d0887"
             ],
             [
              0.1111111111111111,
              "#46039f"
             ],
             [
              0.2222222222222222,
              "#7201a8"
             ],
             [
              0.3333333333333333,
              "#9c179e"
             ],
             [
              0.4444444444444444,
              "#bd3786"
             ],
             [
              0.5555555555555556,
              "#d8576b"
             ],
             [
              0.6666666666666666,
              "#ed7953"
             ],
             [
              0.7777777777777778,
              "#fb9f3a"
             ],
             [
              0.8888888888888888,
              "#fdca26"
             ],
             [
              1,
              "#f0f921"
             ]
            ],
            "type": "heatmapgl"
           }
          ],
          "histogram": [
           {
            "marker": {
             "pattern": {
              "fillmode": "overlay",
              "size": 10,
              "solidity": 0.2
             }
            },
            "type": "histogram"
           }
          ],
          "histogram2d": [
           {
            "colorbar": {
             "outlinewidth": 0,
             "ticks": ""
            },
            "colorscale": [
             [
              0,
              "#0d0887"
             ],
             [
              0.1111111111111111,
              "#46039f"
             ],
             [
              0.2222222222222222,
              "#7201a8"
             ],
             [
              0.3333333333333333,
              "#9c179e"
             ],
             [
              0.4444444444444444,
              "#bd3786"
             ],
             [
              0.5555555555555556,
              "#d8576b"
             ],
             [
              0.6666666666666666,
              "#ed7953"
             ],
             [
              0.7777777777777778,
              "#fb9f3a"
             ],
             [
              0.8888888888888888,
              "#fdca26"
             ],
             [
              1,
              "#f0f921"
             ]
            ],
            "type": "histogram2d"
           }
          ],
          "histogram2dcontour": [
           {
            "colorbar": {
             "outlinewidth": 0,
             "ticks": ""
            },
            "colorscale": [
             [
              0,
              "#0d0887"
             ],
             [
              0.1111111111111111,
              "#46039f"
             ],
             [
              0.2222222222222222,
              "#7201a8"
             ],
             [
              0.3333333333333333,
              "#9c179e"
             ],
             [
              0.4444444444444444,
              "#bd3786"
             ],
             [
              0.5555555555555556,
              "#d8576b"
             ],
             [
              0.6666666666666666,
              "#ed7953"
             ],
             [
              0.7777777777777778,
              "#fb9f3a"
             ],
             [
              0.8888888888888888,
              "#fdca26"
             ],
             [
              1,
              "#f0f921"
             ]
            ],
            "type": "histogram2dcontour"
           }
          ],
          "mesh3d": [
           {
            "colorbar": {
             "outlinewidth": 0,
             "ticks": ""
            },
            "type": "mesh3d"
           }
          ],
          "parcoords": [
           {
            "line": {
             "colorbar": {
              "outlinewidth": 0,
              "ticks": ""
             }
            },
            "type": "parcoords"
           }
          ],
          "pie": [
           {
            "automargin": true,
            "type": "pie"
           }
          ],
          "scatter": [
           {
            "fillpattern": {
             "fillmode": "overlay",
             "size": 10,
             "solidity": 0.2
            },
            "type": "scatter"
           }
          ],
          "scatter3d": [
           {
            "line": {
             "colorbar": {
              "outlinewidth": 0,
              "ticks": ""
             }
            },
            "marker": {
             "colorbar": {
              "outlinewidth": 0,
              "ticks": ""
             }
            },
            "type": "scatter3d"
           }
          ],
          "scattercarpet": [
           {
            "marker": {
             "colorbar": {
              "outlinewidth": 0,
              "ticks": ""
             }
            },
            "type": "scattercarpet"
           }
          ],
          "scattergeo": [
           {
            "marker": {
             "colorbar": {
              "outlinewidth": 0,
              "ticks": ""
             }
            },
            "type": "scattergeo"
           }
          ],
          "scattergl": [
           {
            "marker": {
             "colorbar": {
              "outlinewidth": 0,
              "ticks": ""
             }
            },
            "type": "scattergl"
           }
          ],
          "scattermapbox": [
           {
            "marker": {
             "colorbar": {
              "outlinewidth": 0,
              "ticks": ""
             }
            },
            "type": "scattermapbox"
           }
          ],
          "scatterpolar": [
           {
            "marker": {
             "colorbar": {
              "outlinewidth": 0,
              "ticks": ""
             }
            },
            "type": "scatterpolar"
           }
          ],
          "scatterpolargl": [
           {
            "marker": {
             "colorbar": {
              "outlinewidth": 0,
              "ticks": ""
             }
            },
            "type": "scatterpolargl"
           }
          ],
          "scatterternary": [
           {
            "marker": {
             "colorbar": {
              "outlinewidth": 0,
              "ticks": ""
             }
            },
            "type": "scatterternary"
           }
          ],
          "surface": [
           {
            "colorbar": {
             "outlinewidth": 0,
             "ticks": ""
            },
            "colorscale": [
             [
              0,
              "#0d0887"
             ],
             [
              0.1111111111111111,
              "#46039f"
             ],
             [
              0.2222222222222222,
              "#7201a8"
             ],
             [
              0.3333333333333333,
              "#9c179e"
             ],
             [
              0.4444444444444444,
              "#bd3786"
             ],
             [
              0.5555555555555556,
              "#d8576b"
             ],
             [
              0.6666666666666666,
              "#ed7953"
             ],
             [
              0.7777777777777778,
              "#fb9f3a"
             ],
             [
              0.8888888888888888,
              "#fdca26"
             ],
             [
              1,
              "#f0f921"
             ]
            ],
            "type": "surface"
           }
          ],
          "table": [
           {
            "cells": {
             "fill": {
              "color": "#EBF0F8"
             },
             "line": {
              "color": "white"
             }
            },
            "header": {
             "fill": {
              "color": "#C8D4E3"
             },
             "line": {
              "color": "white"
             }
            },
            "type": "table"
           }
          ]
         },
         "layout": {
          "annotationdefaults": {
           "arrowcolor": "#2a3f5f",
           "arrowhead": 0,
           "arrowwidth": 1
          },
          "autotypenumbers": "strict",
          "coloraxis": {
           "colorbar": {
            "outlinewidth": 0,
            "ticks": ""
           }
          },
          "colorscale": {
           "diverging": [
            [
             0,
             "#8e0152"
            ],
            [
             0.1,
             "#c51b7d"
            ],
            [
             0.2,
             "#de77ae"
            ],
            [
             0.3,
             "#f1b6da"
            ],
            [
             0.4,
             "#fde0ef"
            ],
            [
             0.5,
             "#f7f7f7"
            ],
            [
             0.6,
             "#e6f5d0"
            ],
            [
             0.7,
             "#b8e186"
            ],
            [
             0.8,
             "#7fbc41"
            ],
            [
             0.9,
             "#4d9221"
            ],
            [
             1,
             "#276419"
            ]
           ],
           "sequential": [
            [
             0,
             "#0d0887"
            ],
            [
             0.1111111111111111,
             "#46039f"
            ],
            [
             0.2222222222222222,
             "#7201a8"
            ],
            [
             0.3333333333333333,
             "#9c179e"
            ],
            [
             0.4444444444444444,
             "#bd3786"
            ],
            [
             0.5555555555555556,
             "#d8576b"
            ],
            [
             0.6666666666666666,
             "#ed7953"
            ],
            [
             0.7777777777777778,
             "#fb9f3a"
            ],
            [
             0.8888888888888888,
             "#fdca26"
            ],
            [
             1,
             "#f0f921"
            ]
           ],
           "sequentialminus": [
            [
             0,
             "#0d0887"
            ],
            [
             0.1111111111111111,
             "#46039f"
            ],
            [
             0.2222222222222222,
             "#7201a8"
            ],
            [
             0.3333333333333333,
             "#9c179e"
            ],
            [
             0.4444444444444444,
             "#bd3786"
            ],
            [
             0.5555555555555556,
             "#d8576b"
            ],
            [
             0.6666666666666666,
             "#ed7953"
            ],
            [
             0.7777777777777778,
             "#fb9f3a"
            ],
            [
             0.8888888888888888,
             "#fdca26"
            ],
            [
             1,
             "#f0f921"
            ]
           ]
          },
          "colorway": [
           "#636efa",
           "#EF553B",
           "#00cc96",
           "#ab63fa",
           "#FFA15A",
           "#19d3f3",
           "#FF6692",
           "#B6E880",
           "#FF97FF",
           "#FECB52"
          ],
          "font": {
           "color": "#2a3f5f"
          },
          "geo": {
           "bgcolor": "white",
           "lakecolor": "white",
           "landcolor": "#E5ECF6",
           "showlakes": true,
           "showland": true,
           "subunitcolor": "white"
          },
          "hoverlabel": {
           "align": "left"
          },
          "hovermode": "closest",
          "mapbox": {
           "style": "light"
          },
          "paper_bgcolor": "white",
          "plot_bgcolor": "#E5ECF6",
          "polar": {
           "angularaxis": {
            "gridcolor": "white",
            "linecolor": "white",
            "ticks": ""
           },
           "bgcolor": "#E5ECF6",
           "radialaxis": {
            "gridcolor": "white",
            "linecolor": "white",
            "ticks": ""
           }
          },
          "scene": {
           "xaxis": {
            "backgroundcolor": "#E5ECF6",
            "gridcolor": "white",
            "gridwidth": 2,
            "linecolor": "white",
            "showbackground": true,
            "ticks": "",
            "zerolinecolor": "white"
           },
           "yaxis": {
            "backgroundcolor": "#E5ECF6",
            "gridcolor": "white",
            "gridwidth": 2,
            "linecolor": "white",
            "showbackground": true,
            "ticks": "",
            "zerolinecolor": "white"
           },
           "zaxis": {
            "backgroundcolor": "#E5ECF6",
            "gridcolor": "white",
            "gridwidth": 2,
            "linecolor": "white",
            "showbackground": true,
            "ticks": "",
            "zerolinecolor": "white"
           }
          },
          "shapedefaults": {
           "line": {
            "color": "#2a3f5f"
           }
          },
          "ternary": {
           "aaxis": {
            "gridcolor": "white",
            "linecolor": "white",
            "ticks": ""
           },
           "baxis": {
            "gridcolor": "white",
            "linecolor": "white",
            "ticks": ""
           },
           "bgcolor": "#E5ECF6",
           "caxis": {
            "gridcolor": "white",
            "linecolor": "white",
            "ticks": ""
           }
          },
          "title": {
           "x": 0.05
          },
          "xaxis": {
           "automargin": true,
           "gridcolor": "white",
           "linecolor": "white",
           "ticks": "",
           "title": {
            "standoff": 15
           },
           "zerolinecolor": "white",
           "zerolinewidth": 2
          },
          "yaxis": {
           "automargin": true,
           "gridcolor": "white",
           "linecolor": "white",
           "ticks": "",
           "title": {
            "standoff": 15
           },
           "zerolinecolor": "white",
           "zerolinewidth": 2
          }
         }
        },
        "title": {
         "text": "Categorias da base de dados"
        },
        "width": 500
       }
      }
     },
     "metadata": {},
     "output_type": "display_data"
    }
   ],
   "source": [
    "fig = go.Figure()\n",
    "color = ['blue', 'red','yellow', 'purple']\n",
    "fig.add_trace(\n",
    "    go.Bar(\n",
    "        x = df['esrb_rating'].value_counts().index,\n",
    "        y = df['esrb_rating'].value_counts().values,\n",
    "        marker_color = color\n",
    "    )\n",
    ")\n",
    "fig.update_layout(\n",
    "    title = 'Categorias da base de dados'\n",
    "    ,width = 500, height = 500)\n",
    "\n",
    "fig.show()"
   ]
  },
  {
   "attachments": {},
   "cell_type": "markdown",
   "metadata": {},
   "source": [
    "Através do gráfico acima é possível verificar que a base está desbalanceada, então é possível considerar que será necessários efetuar alguma estrategia de balanceamento de dados (undersampling ou oversampling)"
   ]
  },
  {
   "cell_type": "code",
   "execution_count": 37,
   "metadata": {},
   "outputs": [],
   "source": [
    "rename_esrb = {'E': 0,'ET': 1,'M': 2,'T': 3}\n",
    "df_corr = df.copy()\n",
    "df_corr.replace(rename_esrb, inplace=True)\n",
    "df_corr.drop('title', axis = 1, inplace=True) \n",
    "df_corr = df_corr.corr(method='spearman')"
   ]
  },
  {
   "cell_type": "code",
   "execution_count": 38,
   "metadata": {},
   "outputs": [],
   "source": [
    "rename_esrb = {'E': 0,'ET': 1,'M': 2,'T': 3}\n",
    "df_corr = df.copy()\n",
    "df_corr.replace(rename_esrb, inplace=True)"
   ]
  },
  {
   "attachments": {},
   "cell_type": "markdown",
   "metadata": {},
   "source": [
    "## Análise empírica de seleção de colunas"
   ]
  },
  {
   "cell_type": "code",
   "execution_count": 46,
   "metadata": {},
   "outputs": [
    {
     "data": {
      "application/vnd.plotly.v1+json": {
       "config": {
        "plotlyServerURL": "https://plot.ly"
       },
       "data": [
        {
         "text": [
          [
           1,
           -0.14371657754010694,
           0.002339572192513369,
           0.06316844919786097,
           0.5691844919786097,
           -0.09491978609625669,
           0.5457887700534759,
           0.08422459893048129,
           -0.8689839572192514,
           0.6864973262032086,
           -0.16109625668449198,
           0.3018048128342246,
           -0.5114063692961778,
           -0.8793449197860963,
           0.2710561497326203,
           -0.02072192513368984,
           -0.15307486631016043,
           -0.7212566844919787,
           -0.5140374331550802,
           -0.4732620320855615,
           0.04378342245989305,
           0.27406417112299464,
           0.10594919786096256,
           0.2503551441848609,
           0.24866310160427807,
           0.35093582887700536,
           0.36463903743315507,
           0.6724598930481284,
           -0.7232620320855615,
           -0.2867647058823529,
           -0.18382352941176472,
           0.35862299465240643,
           -0.0625
          ],
          [
           -0.14371657754010694,
           1,
           0.8118315508021391,
           -0.7874331550802139,
           -0.6353609625668449,
           0.7844251336898396,
           0.5454545454545454,
           -0.6527406417112299,
           0.3663101604278075,
           -0.12032085561497326,
           -0.7707219251336899,
           -0.6961898395721925,
           -0.02857859122537464,
           0.3669786096256685,
           0.8191844919786097,
           0.7847593582887701,
           0.7309491978609626,
           0.42379679144385024,
           0.8011363636363636,
           0.8866978609625669,
           0.838903743315508,
           -0.5508021390374331,
           -0.6427139037433155,
           -0.8277763879490093,
           -0.7997994652406417,
           -0.7175802139037433,
           -0.8188502673796791,
           -0.321524064171123,
           -0.4354946524064171,
           0.8793449197860963,
           -0.2232620320855615,
           -0.8211898395721925,
           -0.7991310160427807
          ],
          [
           0.002339572192513369,
           0.8118315508021391,
           1,
           -0.6868315508021391,
           -0.36764705882352944,
           0.6213235294117647,
           0.5357620320855615,
           -0.3790106951871658,
           0.2640374331550802,
           -0.06450534759358288,
           -0.5661764705882353,
           -0.6062834224598931,
           -0.20038439110657422,
           0.28442513368983957,
           0.7058823529411765,
           0.6219919786096256,
           0.6915106951871658,
           0.25133689839572193,
           0.6039438502673797,
           0.75701871657754,
           0.7834224598930482,
           -0.277072192513369,
           -0.4872994652406417,
           -0.702431689592103,
           -0.6256684491978609,
           -0.5437834224598931,
           -0.6163101604278075,
           -0.10127005347593583,
           -0.4585561497326203,
           0.7640374331550802,
           -0.16945187165775402,
           -0.5808823529411765,
           -0.6440508021390374
          ],
          [
           0.06316844919786097,
           -0.7874331550802139,
           -0.6868315508021391,
           1,
           0.7012032085561497,
           -0.7225935828877005,
           -0.33455882352941174,
           0.7606951871657754,
           -0.36463903743315507,
           0.3622994652406417,
           0.75701871657754,
           0.856951871657754,
           0.3633324989705524,
           -0.32286096256684493,
           -0.615975935828877,
           -0.8201871657754011,
           -0.6768048128342246,
           -0.44418449197860965,
           -0.598596256684492,
           -0.7523395721925134,
           -0.9000668449197861,
           0.6657754010695187,
           0.8302139037433155,
           0.8769115097049166,
           0.8873663101604278,
           0.8723262032085561,
           0.8723262032085561,
           0.48562834224598933,
           0.5203877005347594,
           -0.7195855614973262,
           -0.0006684491978609625,
           0.6898395721925134,
           0.9441844919786097
          ],
          [
           0.5691844919786097,
           -0.6353609625668449,
           -0.36764705882352944,
           0.7012032085561497,
           1,
           -0.6875,
           -0.002339572192513369,
           0.7834224598930482,
           -0.7102272727272727,
           0.7369652406417112,
           0.580548128342246,
           0.7650401069518716,
           -0.13854767325050044,
           -0.6500668449197861,
           -0.33455882352941174,
           -0.7219251336898396,
           -0.6744652406417112,
           -0.8028074866310161,
           -0.7540106951871658,
           -0.7643716577540107,
           -0.5992647058823529,
           0.8673128342245989,
           0.6821524064171123,
           0.8565221054388598,
           0.8419117647058824,
           0.8125,
           0.8940508021390374,
           0.8753342245989305,
           -0.04946524064171123,
           -0.5949197860962567,
           -0.0625,
           0.7967914438502673,
           0.6353609625668449
          ],
          [
           -0.09491978609625669,
           0.7844251336898396,
           0.6213235294117647,
           -0.7225935828877005,
           -0.6875,
           1,
           0.4979946524064171,
           -0.7613636363636364,
           0.3790106951871658,
           -0.3272058823529412,
           -0.7767379679144385,
           -0.669451871657754,
           -0.16662488568244746,
           0.2887700534759358,
           0.6587566844919787,
           0.9047459893048129,
           0.8402406417112299,
           0.5862299465240641,
           0.7159090909090909,
           0.7272727272727273,
           0.7700534759358288,
           -0.7142379679144385,
           -0.6928475935828877,
           -0.8304504081806233,
           -0.8125,
           -0.7092245989304813,
           -0.8185160427807486,
           -0.5120320855614974,
           -0.3907085561497326,
           0.7075534759358288,
           0.07453208556149733,
           -0.6524064171122995,
           -0.7439839572192514
          ],
          [
           0.5457887700534759,
           0.5454545454545454,
           0.5357620320855615,
           -0.33455882352941174,
           -0.002339572192513369,
           0.4979946524064171,
           1,
           -0.38235294117647056,
           -0.4000668449197861,
           0.4799465240641711,
           -0.6644385026737968,
           -0.0661764705882353,
           -0.18266900707213146,
           -0.4087566844919786,
           0.8165106951871658,
           0.46189839572192515,
           0.43783422459893045,
           -0.20287433155080214,
           0.30213903743315507,
           0.2286096256684492,
           0.5093582887700535,
           -0.20554812834224598,
           -0.23629679144385027,
           -0.3427759684400198,
           -0.2820855614973262,
           -0.06651069518716578,
           -0.22225935828877005,
           0.3074866310160428,
           -0.713903743315508,
           0.3091577540106952,
           -0.29010695187165775,
           -0.2667112299465241,
           -0.4405080213903743
          ],
          [
           0.08422459893048129,
           -0.6527406417112299,
           -0.3790106951871658,
           0.7606951871657754,
           0.7834224598930482,
           -0.7613636363636364,
           -0.38235294117647056,
           1,
           -0.31383689839572193,
           0.39204545454545453,
           0.8656417112299465,
           0.6447192513368984,
           0.22027241657920335,
           -0.17179144385026737,
           -0.5601604278074866,
           -0.8201871657754011,
           -0.6627673796791443,
           -0.5511363636363636,
           -0.5899064171122995,
           -0.5802139037433155,
           -0.6881684491978609,
           0.902072192513369,
           0.8084893048128342,
           0.8112308877658977,
           0.8843582887700535,
           0.758355614973262,
           0.8399064171122995,
           0.616644385026738,
           0.3947192513368984,
           -0.5367647058823529,
           -0.07520053475935828,
           0.5975935828877005,
           0.7580213903743316
          ],
          [
           -0.8689839572192514,
           0.3663101604278075,
           0.2640374331550802,
           -0.36463903743315507,
           -0.7102272727272727,
           0.3790106951871658,
           -0.4000668449197861,
           -0.31383689839572193,
           1,
           -0.7586898395721925,
           -0.09224598930481283,
           -0.5584893048128342,
           0.28612016478269814,
           0.9421791443850267,
           -0.1196524064171123,
           0.32687165775401067,
           0.37232620320855614,
           0.865975935828877,
           0.6433823529411765,
           0.6774732620320856,
           0.2266042780748663,
           -0.44385026737967914,
           -0.43716577540106955,
           -0.49318960646830734,
           -0.5344251336898396,
           -0.6617647058823529,
           -0.6223262032085561,
           -0.8018048128342246,
           0.4789438502673797,
           0.5334224598930482,
           0.3272058823529412,
           -0.44585561497326204,
           -0.21758021390374332
          ],
          [
           0.6864973262032086,
           -0.12032085561497326,
           -0.06450534759358288,
           0.3622994652406417,
           0.7369652406417112,
           -0.3272058823529412,
           0.4799465240641711,
           0.39204545454545453,
           -0.7586898395721925,
           1,
           0.07252673796791444,
           0.5845588235294118,
           -0.029581348812229888,
           -0.703542780748663,
           0.2252673796791444,
           -0.3927139037433155,
           -0.39037433155080214,
           -0.7837566844919787,
           -0.3643048128342246,
           -0.4127673796791444,
           -0.24598930481283424,
           0.5919117647058824,
           0.3803475935828877,
           0.5080638440066603,
           0.48061497326203206,
           0.5401069518716578,
           0.5484625668449198,
           0.902072192513369,
           -0.39739304812834225,
           -0.21657754010695188,
           -0.3950534759358289,
           0.3696524064171123,
           0.24899732620320855
          ],
          [
           -0.16109625668449198,
           -0.7707219251336899,
           -0.5661764705882353,
           0.75701871657754,
           0.580548128342246,
           -0.7767379679144385,
           -0.6644385026737968,
           0.8656417112299465,
           -0.09224598930481283,
           0.07252673796791444,
           1,
           0.6296791443850267,
           0.28729004863402924,
           0.027072192513368985,
           -0.7897727272727273,
           -0.8014705882352942,
           -0.6280080213903744,
           -0.2747326203208556,
           -0.5457887700534759,
           -0.5822192513368984,
           -0.7700534759358288,
           0.704879679144385,
           0.7245989304812834,
           0.7789755187220537,
           0.8145053475935828,
           0.6407085561497327,
           0.7463235294117647,
           0.3024732620320856,
           0.6233288770053476,
           -0.6026069518716578,
           0.09057486631016043,
           0.6163101604278075,
           0.8068181818181818
          ],
          [
           0.3018048128342246,
           -0.6961898395721925,
           -0.6062834224598931,
           0.856951871657754,
           0.7650401069518716,
           -0.669451871657754,
           -0.0661764705882353,
           0.6447192513368984,
           -0.5584893048128342,
           0.5845588235294118,
           0.6296791443850267,
           1,
           0.2735856949470075,
           -0.48663101604278075,
           -0.4207887700534759,
           -0.7881016042780749,
           -0.625,
           -0.5494652406417112,
           -0.5671791443850267,
           -0.758355614973262,
           -0.8064839572192514,
           0.6397058823529411,
           0.7403074866310161,
           0.8453246457189761,
           0.8318850267379679,
           0.8556149732620321,
           0.8435828877005348,
           0.6183155080213903,
           0.2600267379679144,
           -0.7022058823529411,
           -0.037098930481283425,
           0.732620320855615,
           0.8252005347593583
          ],
          [
           -0.5114063692961778,
           -0.02857859122537464,
           -0.20038439110657422,
           0.3633324989705524,
           -0.13854767325050044,
           -0.16662488568244746,
           -0.18266900707213146,
           0.22027241657920335,
           0.28612016478269814,
           -0.029581348812229888,
           0.28729004863402924,
           0.2735856949470075,
           1,
           0.3915768376669753,
           -0.17147154735224784,
           -0.3487925139611513,
           -0.09342358184201417,
           0.16896465338510971,
           0.32623046825690816,
           0.08540152114717217,
           -0.36232974138369717,
           0.08991393028802079,
           0.3494610190190548,
           0.13137222129366538,
           0.17815659793128283,
           0.18768279500640772,
           0.09860449604076629,
           -0.10645943047113243,
           0.6080053501632335,
           -0.04261719744134815,
           -0.18183337574975209,
           -0.13921617830840394,
           0.4231637016529157
          ],
          [
           -0.8793449197860963,
           0.3669786096256685,
           0.28442513368983957,
           -0.32286096256684493,
           -0.6500668449197861,
           0.2887700534759358,
           -0.4087566844919786,
           -0.17179144385026737,
           0.9421791443850267,
           -0.703542780748663,
           0.027072192513368985,
           -0.48663101604278075,
           0.3915768376669753,
           1,
           -0.12299465240641712,
           0.24565508021390375,
           0.3582887700534759,
           0.7794117647058824,
           0.6457219251336899,
           0.6911764705882353,
           0.204879679144385,
           -0.3235294117647059,
           -0.3252005347593583,
           -0.4472298837374417,
           -0.43683155080213903,
           -0.56951871657754,
           -0.5501336898395722,
           -0.6998663101604278,
           0.5284090909090909,
           0.5193850267379679,
           0.25635026737967914,
           -0.46891711229946526,
           -0.1657754010695187
          ],
          [
           0.2710561497326203,
           0.8191844919786097,
           0.7058823529411765,
           -0.615975935828877,
           -0.33455882352941174,
           0.6587566844919787,
           0.8165106951871658,
           -0.5601604278074866,
           -0.1196524064171123,
           0.2252673796791444,
           -0.7897727272727273,
           -0.4207887700534759,
           -0.17147154735224784,
           -0.12299465240641712,
           1,
           0.6841577540106952,
           0.6390374331550802,
           0.012366310160427808,
           0.47961229946524064,
           0.5320855614973262,
           0.7974598930481284,
           -0.42814171122994654,
           -0.40942513368983957,
           -0.6456087596703054,
           -0.5681818181818182,
           -0.40106951871657753,
           -0.5207219251336899,
           0.035093582887700536,
           -0.7252673796791443,
           0.5608288770053476,
           -0.42245989304812837,
           -0.6413770053475936,
           -0.7342914438502673
          ],
          [
           -0.02072192513368984,
           0.7847593582887701,
           0.6219919786096256,
           -0.8201871657754011,
           -0.7219251336898396,
           0.9047459893048129,
           0.46189839572192515,
           -0.8201871657754011,
           0.32687165775401067,
           -0.3927139037433155,
           -0.8014705882352942,
           -0.7881016042780749,
           -0.3487925139611513,
           0.24565508021390375,
           0.6841577540106952,
           1,
           0.8345588235294118,
           0.5130347593582888,
           0.6019385026737968,
           0.7008689839572193,
           0.8897058823529411,
           -0.785427807486631,
           -0.7426470588235294,
           -0.8735689844153991,
           -0.8399064171122995,
           -0.7663770053475936,
           -0.8372326203208557,
           -0.5200534759358288,
           -0.5010026737967914,
           0.6697860962566845,
           0.03843582887700535,
           -0.7108957219251337,
           -0.8753342245989305
          ],
          [
           -0.15307486631016043,
           0.7309491978609626,
           0.6915106951871658,
           -0.6768048128342246,
           -0.6744652406417112,
           0.8402406417112299,
           0.43783422459893045,
           -0.6627673796791443,
           0.37232620320855614,
           -0.39037433155080214,
           -0.6280080213903744,
           -0.625,
           -0.09342358184201417,
           0.3582887700534759,
           0.6390374331550802,
           0.8345588235294118,
           1,
           0.55548128342246,
           0.671457219251337,
           0.7312834224598931,
           0.7790775401069518,
           -0.6574197860962567,
           -0.5651737967914439,
           -0.8150747918488428,
           -0.7466577540106952,
           -0.6253342245989305,
           -0.7403074866310161,
           -0.49933155080213903,
           -0.3135026737967914,
           0.6273395721925134,
           0.03943850267379679,
           -0.6721256684491979,
           -0.6697860962566845
          ],
          [
           -0.7212566844919787,
           0.42379679144385024,
           0.25133689839572193,
           -0.44418449197860965,
           -0.8028074866310161,
           0.5862299465240641,
           -0.20287433155080214,
           -0.5511363636363636,
           0.865975935828877,
           -0.7837566844919787,
           -0.2747326203208556,
           -0.5494652406417112,
           0.16896465338510971,
           0.7794117647058824,
           0.012366310160427808,
           0.5130347593582888,
           0.55548128342246,
           1,
           0.7393048128342246,
           0.6915106951871658,
           0.31216577540106955,
           -0.6483957219251337,
           -0.5892379679144385,
           -0.5973092692367775,
           -0.6637700534759359,
           -0.7205882352941176,
           -0.7299465240641712,
           -0.8853609625668449,
           0.30514705882352944,
           0.5852272727272727,
           0.42212566844919786,
           -0.43816844919786097,
           -0.32887700534759357
          ],
          [
           -0.5140374331550802,
           0.8011363636363636,
           0.6039438502673797,
           -0.598596256684492,
           -0.7540106951871658,
           0.7159090909090909,
           0.30213903743315507,
           -0.5899064171122995,
           0.6433823529411765,
           -0.3643048128342246,
           -0.5457887700534759,
           -0.5671791443850267,
           0.32623046825690816,
           0.6457219251336899,
           0.47961229946524064,
           0.6019385026737968,
           0.671457219251337,
           0.7393048128342246,
           1,
           0.9054144385026738,
           0.5544786096256684,
           -0.5765374331550802,
           -0.5858957219251337,
           -0.7381967101899403,
           -0.7436497326203209,
           -0.7012032085561497,
           -0.8058155080213903,
           -0.5494652406417112,
           0.014371657754010695,
           0.8185160427807486,
           0.042446524064171126,
           -0.7052139037433155,
           -0.5320855614973262
          ],
          [
           -0.4732620320855615,
           0.8866978609625669,
           0.75701871657754,
           -0.7523395721925134,
           -0.7643716577540107,
           0.7272727272727273,
           0.2286096256684492,
           -0.5802139037433155,
           0.6774732620320856,
           -0.4127673796791444,
           -0.5822192513368984,
           -0.758355614973262,
           0.08540152114717217,
           0.6911764705882353,
           0.5320855614973262,
           0.7008689839572193,
           0.7312834224598931,
           0.6915106951871658,
           0.9054144385026738,
           1,
           0.7199197860962567,
           -0.5521390374331551,
           -0.6798128342245989,
           -0.8332915546767131,
           -0.8252005347593583,
           -0.8171791443850267,
           -0.8786764705882353,
           -0.5457887700534759,
           -0.10728609625668449,
           0.9244652406417112,
           0.0033422459893048127,
           -0.7881016042780749,
           -0.6911764705882353
          ],
          [
           0.04378342245989305,
           0.838903743315508,
           0.7834224598930482,
           -0.9000668449197861,
           -0.5992647058823529,
           0.7700534759358288,
           0.5093582887700535,
           -0.6881684491978609,
           0.2266042780748663,
           -0.24598930481283424,
           -0.7700534759358288,
           -0.8064839572192514,
           -0.36232974138369717,
           0.204879679144385,
           0.7974598930481284,
           0.8897058823529411,
           0.7790775401069518,
           0.31216577540106955,
           0.5544786096256684,
           0.7199197860962567,
           1,
           -0.6270053475935828,
           -0.6764705882352942,
           -0.8708949641837851,
           -0.8135026737967914,
           -0.7332887700534759,
           -0.7877673796791443,
           -0.3292112299465241,
           -0.6116310160427807,
           0.6998663101604278,
           -0.1483957219251337,
           -0.740975935828877,
           -0.9425133689839572
          ],
          [
           0.27406417112299464,
           -0.5508021390374331,
           -0.277072192513369,
           0.6657754010695187,
           0.8673128342245989,
           -0.7142379679144385,
           -0.20554812834224598,
           0.902072192513369,
           -0.44385026737967914,
           0.5919117647058824,
           0.704879679144385,
           0.6397058823529411,
           0.08991393028802079,
           -0.3235294117647059,
           -0.42814171122994654,
           -0.785427807486631,
           -0.6574197860962567,
           -0.6483957219251337,
           -0.5765374331550802,
           -0.5521390374331551,
           -0.6270053475935828,
           1,
           0.7038770053475936,
           0.7888359683261303,
           0.8064839572192514,
           0.6935160427807486,
           0.8044786096256684,
           0.7633689839572193,
           0.18382352941176472,
           -0.43616310160427807,
           -0.11931818181818182,
           0.6363636363636364,
           0.6768048128342246
          ],
          [
           0.10594919786096256,
           -0.6427139037433155,
           -0.4872994652406417,
           0.8302139037433155,
           0.6821524064171123,
           -0.6928475935828877,
           -0.23629679144385027,
           0.8084893048128342,
           -0.43716577540106955,
           0.3803475935828877,
           0.7245989304812834,
           0.7403074866310161,
           0.3494610190190548,
           -0.3252005347593583,
           -0.40942513368983957,
           -0.7426470588235294,
           -0.5651737967914439,
           -0.5892379679144385,
           -0.5858957219251337,
           -0.6798128342245989,
           -0.6764705882352942,
           0.7038770053475936,
           1,
           0.7462187708847823,
           0.8977272727272727,
           0.8947192513368984,
           0.8529411764705882,
           0.5855614973262032,
           0.3522727272727273,
           -0.7159090909090909,
           -0.26169786096256686,
           0.4625668449197861,
           0.7800802139037433
          ],
          [
           0.2503551441848609,
           -0.8277763879490093,
           -0.702431689592103,
           0.8769115097049166,
           0.8565221054388598,
           -0.8304504081806233,
           -0.3427759684400198,
           0.8112308877658977,
           -0.49318960646830734,
           0.5080638440066603,
           0.7789755187220537,
           0.8453246457189761,
           0.13137222129366538,
           -0.4472298837374417,
           -0.6456087596703054,
           -0.8735689844153991,
           -0.8150747918488428,
           -0.5973092692367775,
           -0.7381967101899403,
           -0.8332915546767131,
           -0.8708949641837851,
           0.7888359683261303,
           0.7462187708847823,
           1,
           0.9183588232949336,
           0.8291133980648163,
           0.9305590406016725,
           0.6243837240818693,
           0.3212166803226319,
           -0.7343528061069952,
           0.050806384400666024,
           0.8251023677173953,
           0.8421492466939345
          ],
          [
           0.24866310160427807,
           -0.7997994652406417,
           -0.6256684491978609,
           0.8873663101604278,
           0.8419117647058824,
           -0.8125,
           -0.2820855614973262,
           0.8843582887700535,
           -0.5344251336898396,
           0.48061497326203206,
           0.8145053475935828,
           0.8318850267379679,
           0.17815659793128283,
           -0.43683155080213903,
           -0.5681818181818182,
           -0.8399064171122995,
           -0.7466577540106952,
           -0.6637700534759359,
           -0.7436497326203209,
           -0.8252005347593583,
           -0.8135026737967914,
           0.8064839572192514,
           0.8977272727272727,
           0.9183588232949336,
           1,
           0.9241310160427807,
           0.9669117647058824,
           0.6671122994652406,
           0.32887700534759357,
           -0.7857620320855615,
           -0.08723262032085562,
           0.7212566844919787,
           0.8442513368983957
          ],
          [
           0.35093582887700536,
           -0.7175802139037433,
           -0.5437834224598931,
           0.8723262032085561,
           0.8125,
           -0.7092245989304813,
           -0.06651069518716578,
           0.758355614973262,
           -0.6617647058823529,
           0.5401069518716578,
           0.6407085561497327,
           0.8556149732620321,
           0.18768279500640772,
           -0.56951871657754,
           -0.40106951871657753,
           -0.7663770053475936,
           -0.6253342245989305,
           -0.7205882352941176,
           -0.7012032085561497,
           -0.8171791443850267,
           -0.7332887700534759,
           0.6935160427807486,
           0.8947192513368984,
           0.8291133980648163,
           0.9241310160427807,
           1,
           0.9174465240641712,
           0.7115641711229946,
           0.22292780748663102,
           -0.7824197860962567,
           -0.16744652406417113,
           0.6440508021390374,
           0.8058155080213903
          ],
          [
           0.36463903743315507,
           -0.8188502673796791,
           -0.6163101604278075,
           0.8723262032085561,
           0.8940508021390374,
           -0.8185160427807486,
           -0.22225935828877005,
           0.8399064171122995,
           -0.6223262032085561,
           0.5484625668449198,
           0.7463235294117647,
           0.8435828877005348,
           0.09860449604076629,
           -0.5501336898395722,
           -0.5207219251336899,
           -0.8372326203208557,
           -0.7403074866310161,
           -0.7299465240641712,
           -0.8058155080213903,
           -0.8786764705882353,
           -0.7877673796791443,
           0.8044786096256684,
           0.8529411764705882,
           0.9305590406016725,
           0.9669117647058824,
           0.9174465240641712,
           1,
           0.7162433155080213,
           0.21657754010695188,
           -0.8272058823529411,
           -0.10628342245989304,
           0.7640374331550802,
           0.8114973262032086
          ],
          [
           0.6724598930481284,
           -0.321524064171123,
           -0.10127005347593583,
           0.48562834224598933,
           0.8753342245989305,
           -0.5120320855614974,
           0.3074866310160428,
           0.616644385026738,
           -0.8018048128342246,
           0.902072192513369,
           0.3024732620320856,
           0.6183155080213903,
           -0.10645943047113243,
           -0.6998663101604278,
           0.035093582887700536,
           -0.5200534759358288,
           -0.49933155080213903,
           -0.8853609625668449,
           -0.5494652406417112,
           -0.5457887700534759,
           -0.3292112299465241,
           0.7633689839572193,
           0.5855614973262032,
           0.6243837240818693,
           0.6671122994652406,
           0.7115641711229946,
           0.7162433155080213,
           1,
           -0.30280748663101603,
           -0.3803475935828877,
           -0.31383689839572193,
           0.4959893048128342,
           0.3830213903743315
          ],
          [
           -0.7232620320855615,
           -0.4354946524064171,
           -0.4585561497326203,
           0.5203877005347594,
           -0.04946524064171123,
           -0.3907085561497326,
           -0.713903743315508,
           0.3947192513368984,
           0.4789438502673797,
           -0.39739304812834225,
           0.6233288770053476,
           0.2600267379679144,
           0.6080053501632335,
           0.5284090909090909,
           -0.7252673796791443,
           -0.5010026737967914,
           -0.3135026737967914,
           0.30514705882352944,
           0.014371657754010695,
           -0.10728609625668449,
           -0.6116310160427807,
           0.18382352941176472,
           0.3522727272727273,
           0.3212166803226319,
           0.32887700534759357,
           0.22292780748663102,
           0.21657754010695188,
           -0.30280748663101603,
           1,
           -0.24364973262032086,
           0.23094919786096257,
           0.18449197860962566,
           0.6470588235294118
          ],
          [
           -0.2867647058823529,
           0.8793449197860963,
           0.7640374331550802,
           -0.7195855614973262,
           -0.5949197860962567,
           0.7075534759358288,
           0.3091577540106952,
           -0.5367647058823529,
           0.5334224598930482,
           -0.21657754010695188,
           -0.6026069518716578,
           -0.7022058823529411,
           -0.04261719744134815,
           0.5193850267379679,
           0.5608288770053476,
           0.6697860962566845,
           0.6273395721925134,
           0.5852272727272727,
           0.8185160427807486,
           0.9244652406417112,
           0.6998663101604278,
           -0.43616310160427807,
           -0.7159090909090909,
           -0.7343528061069952,
           -0.7857620320855615,
           -0.7824197860962567,
           -0.8272058823529411,
           -0.3803475935828877,
           -0.24364973262032086,
           1,
           0.03141711229946524,
           -0.63201871657754,
           -0.6774732620320856
          ],
          [
           -0.18382352941176472,
           -0.2232620320855615,
           -0.16945187165775402,
           -0.0006684491978609625,
           -0.0625,
           0.07453208556149733,
           -0.29010695187165775,
           -0.07520053475935828,
           0.3272058823529412,
           -0.3950534759358289,
           0.09057486631016043,
           -0.037098930481283425,
           -0.18183337574975209,
           0.25635026737967914,
           -0.42245989304812837,
           0.03843582887700535,
           0.03943850267379679,
           0.42212566844919786,
           0.042446524064171126,
           0.0033422459893048127,
           -0.1483957219251337,
           -0.11931818181818182,
           -0.26169786096256686,
           0.050806384400666024,
           -0.08723262032085562,
           -0.16744652406417113,
           -0.10628342245989304,
           -0.31383689839572193,
           0.23094919786096257,
           0.03141711229946524,
           1,
           0.40274064171123,
           0.0945855614973262
          ],
          [
           0.35862299465240643,
           -0.8211898395721925,
           -0.5808823529411765,
           0.6898395721925134,
           0.7967914438502673,
           -0.6524064171122995,
           -0.2667112299465241,
           0.5975935828877005,
           -0.44585561497326204,
           0.3696524064171123,
           0.6163101604278075,
           0.732620320855615,
           -0.13921617830840394,
           -0.46891711229946526,
           -0.6413770053475936,
           -0.7108957219251337,
           -0.6721256684491979,
           -0.43816844919786097,
           -0.7052139037433155,
           -0.7881016042780749,
           -0.740975935828877,
           0.6363636363636364,
           0.4625668449197861,
           0.8251023677173953,
           0.7212566844919787,
           0.6440508021390374,
           0.7640374331550802,
           0.4959893048128342,
           0.18449197860962566,
           -0.63201871657754,
           0.40274064171123,
           1,
           0.7179144385026738
          ],
          [
           -0.0625,
           -0.7991310160427807,
           -0.6440508021390374,
           0.9441844919786097,
           0.6353609625668449,
           -0.7439839572192514,
           -0.4405080213903743,
           0.7580213903743316,
           -0.21758021390374332,
           0.24899732620320855,
           0.8068181818181818,
           0.8252005347593583,
           0.4231637016529157,
           -0.1657754010695187,
           -0.7342914438502673,
           -0.8753342245989305,
           -0.6697860962566845,
           -0.32887700534759357,
           -0.5320855614973262,
           -0.6911764705882353,
           -0.9425133689839572,
           0.6768048128342246,
           0.7800802139037433,
           0.8421492466939345,
           0.8442513368983957,
           0.8058155080213903,
           0.8114973262032086,
           0.3830213903743315,
           0.6470588235294118,
           -0.6774732620320856,
           0.0945855614973262,
           0.7179144385026738,
           1
          ]
         ],
         "texttemplate": "%{text:.2f}",
         "type": "heatmap",
         "x": [
          "console",
          "alcohol_reference",
          "animated_blood",
          "blood",
          "blood_and_gore",
          "cartoon_violence",
          "crude_humor",
          "drug_reference",
          "fantasy_violence",
          "intense_violence",
          "language",
          "lyrics",
          "mature_humor",
          "mild_blood",
          "mild_cartoon_violence",
          "mild_fantasy_violence",
          "mild_language",
          "mild_lyrics",
          "mild_suggestive_themes",
          "mild_violence",
          "no_descriptors",
          "nudity",
          "partial_nudity",
          "sexual_content",
          "sexual_themes",
          "simulated_gambling",
          "strong_janguage",
          "strong_sexual_content",
          "suggestive_themes",
          "use_of_alcohol",
          "use_of_drugs_and_alcohol",
          "violence",
          "esrb_rating"
         ],
         "y": [
          "console",
          "alcohol_reference",
          "animated_blood",
          "blood",
          "blood_and_gore",
          "cartoon_violence",
          "crude_humor",
          "drug_reference",
          "fantasy_violence",
          "intense_violence",
          "language",
          "lyrics",
          "mature_humor",
          "mild_blood",
          "mild_cartoon_violence",
          "mild_fantasy_violence",
          "mild_language",
          "mild_lyrics",
          "mild_suggestive_themes",
          "mild_violence",
          "no_descriptors",
          "nudity",
          "partial_nudity",
          "sexual_content",
          "sexual_themes",
          "simulated_gambling",
          "strong_janguage",
          "strong_sexual_content",
          "suggestive_themes",
          "use_of_alcohol",
          "use_of_drugs_and_alcohol",
          "violence",
          "esrb_rating"
         ],
         "z": [
          [
           1,
           -0.14371657754010694,
           0.002339572192513369,
           0.06316844919786097,
           0.5691844919786097,
           -0.09491978609625669,
           0.5457887700534759,
           0.08422459893048129,
           -0.8689839572192514,
           0.6864973262032086,
           -0.16109625668449198,
           0.3018048128342246,
           -0.5114063692961778,
           -0.8793449197860963,
           0.2710561497326203,
           -0.02072192513368984,
           -0.15307486631016043,
           -0.7212566844919787,
           -0.5140374331550802,
           -0.4732620320855615,
           0.04378342245989305,
           0.27406417112299464,
           0.10594919786096256,
           0.2503551441848609,
           0.24866310160427807,
           0.35093582887700536,
           0.36463903743315507,
           0.6724598930481284,
           -0.7232620320855615,
           -0.2867647058823529,
           -0.18382352941176472,
           0.35862299465240643,
           -0.0625
          ],
          [
           -0.14371657754010694,
           1,
           0.8118315508021391,
           -0.7874331550802139,
           -0.6353609625668449,
           0.7844251336898396,
           0.5454545454545454,
           -0.6527406417112299,
           0.3663101604278075,
           -0.12032085561497326,
           -0.7707219251336899,
           -0.6961898395721925,
           -0.02857859122537464,
           0.3669786096256685,
           0.8191844919786097,
           0.7847593582887701,
           0.7309491978609626,
           0.42379679144385024,
           0.8011363636363636,
           0.8866978609625669,
           0.838903743315508,
           -0.5508021390374331,
           -0.6427139037433155,
           -0.8277763879490093,
           -0.7997994652406417,
           -0.7175802139037433,
           -0.8188502673796791,
           -0.321524064171123,
           -0.4354946524064171,
           0.8793449197860963,
           -0.2232620320855615,
           -0.8211898395721925,
           -0.7991310160427807
          ],
          [
           0.002339572192513369,
           0.8118315508021391,
           1,
           -0.6868315508021391,
           -0.36764705882352944,
           0.6213235294117647,
           0.5357620320855615,
           -0.3790106951871658,
           0.2640374331550802,
           -0.06450534759358288,
           -0.5661764705882353,
           -0.6062834224598931,
           -0.20038439110657422,
           0.28442513368983957,
           0.7058823529411765,
           0.6219919786096256,
           0.6915106951871658,
           0.25133689839572193,
           0.6039438502673797,
           0.75701871657754,
           0.7834224598930482,
           -0.277072192513369,
           -0.4872994652406417,
           -0.702431689592103,
           -0.6256684491978609,
           -0.5437834224598931,
           -0.6163101604278075,
           -0.10127005347593583,
           -0.4585561497326203,
           0.7640374331550802,
           -0.16945187165775402,
           -0.5808823529411765,
           -0.6440508021390374
          ],
          [
           0.06316844919786097,
           -0.7874331550802139,
           -0.6868315508021391,
           1,
           0.7012032085561497,
           -0.7225935828877005,
           -0.33455882352941174,
           0.7606951871657754,
           -0.36463903743315507,
           0.3622994652406417,
           0.75701871657754,
           0.856951871657754,
           0.3633324989705524,
           -0.32286096256684493,
           -0.615975935828877,
           -0.8201871657754011,
           -0.6768048128342246,
           -0.44418449197860965,
           -0.598596256684492,
           -0.7523395721925134,
           -0.9000668449197861,
           0.6657754010695187,
           0.8302139037433155,
           0.8769115097049166,
           0.8873663101604278,
           0.8723262032085561,
           0.8723262032085561,
           0.48562834224598933,
           0.5203877005347594,
           -0.7195855614973262,
           -0.0006684491978609625,
           0.6898395721925134,
           0.9441844919786097
          ],
          [
           0.5691844919786097,
           -0.6353609625668449,
           -0.36764705882352944,
           0.7012032085561497,
           1,
           -0.6875,
           -0.002339572192513369,
           0.7834224598930482,
           -0.7102272727272727,
           0.7369652406417112,
           0.580548128342246,
           0.7650401069518716,
           -0.13854767325050044,
           -0.6500668449197861,
           -0.33455882352941174,
           -0.7219251336898396,
           -0.6744652406417112,
           -0.8028074866310161,
           -0.7540106951871658,
           -0.7643716577540107,
           -0.5992647058823529,
           0.8673128342245989,
           0.6821524064171123,
           0.8565221054388598,
           0.8419117647058824,
           0.8125,
           0.8940508021390374,
           0.8753342245989305,
           -0.04946524064171123,
           -0.5949197860962567,
           -0.0625,
           0.7967914438502673,
           0.6353609625668449
          ],
          [
           -0.09491978609625669,
           0.7844251336898396,
           0.6213235294117647,
           -0.7225935828877005,
           -0.6875,
           1,
           0.4979946524064171,
           -0.7613636363636364,
           0.3790106951871658,
           -0.3272058823529412,
           -0.7767379679144385,
           -0.669451871657754,
           -0.16662488568244746,
           0.2887700534759358,
           0.6587566844919787,
           0.9047459893048129,
           0.8402406417112299,
           0.5862299465240641,
           0.7159090909090909,
           0.7272727272727273,
           0.7700534759358288,
           -0.7142379679144385,
           -0.6928475935828877,
           -0.8304504081806233,
           -0.8125,
           -0.7092245989304813,
           -0.8185160427807486,
           -0.5120320855614974,
           -0.3907085561497326,
           0.7075534759358288,
           0.07453208556149733,
           -0.6524064171122995,
           -0.7439839572192514
          ],
          [
           0.5457887700534759,
           0.5454545454545454,
           0.5357620320855615,
           -0.33455882352941174,
           -0.002339572192513369,
           0.4979946524064171,
           1,
           -0.38235294117647056,
           -0.4000668449197861,
           0.4799465240641711,
           -0.6644385026737968,
           -0.0661764705882353,
           -0.18266900707213146,
           -0.4087566844919786,
           0.8165106951871658,
           0.46189839572192515,
           0.43783422459893045,
           -0.20287433155080214,
           0.30213903743315507,
           0.2286096256684492,
           0.5093582887700535,
           -0.20554812834224598,
           -0.23629679144385027,
           -0.3427759684400198,
           -0.2820855614973262,
           -0.06651069518716578,
           -0.22225935828877005,
           0.3074866310160428,
           -0.713903743315508,
           0.3091577540106952,
           -0.29010695187165775,
           -0.2667112299465241,
           -0.4405080213903743
          ],
          [
           0.08422459893048129,
           -0.6527406417112299,
           -0.3790106951871658,
           0.7606951871657754,
           0.7834224598930482,
           -0.7613636363636364,
           -0.38235294117647056,
           1,
           -0.31383689839572193,
           0.39204545454545453,
           0.8656417112299465,
           0.6447192513368984,
           0.22027241657920335,
           -0.17179144385026737,
           -0.5601604278074866,
           -0.8201871657754011,
           -0.6627673796791443,
           -0.5511363636363636,
           -0.5899064171122995,
           -0.5802139037433155,
           -0.6881684491978609,
           0.902072192513369,
           0.8084893048128342,
           0.8112308877658977,
           0.8843582887700535,
           0.758355614973262,
           0.8399064171122995,
           0.616644385026738,
           0.3947192513368984,
           -0.5367647058823529,
           -0.07520053475935828,
           0.5975935828877005,
           0.7580213903743316
          ],
          [
           -0.8689839572192514,
           0.3663101604278075,
           0.2640374331550802,
           -0.36463903743315507,
           -0.7102272727272727,
           0.3790106951871658,
           -0.4000668449197861,
           -0.31383689839572193,
           1,
           -0.7586898395721925,
           -0.09224598930481283,
           -0.5584893048128342,
           0.28612016478269814,
           0.9421791443850267,
           -0.1196524064171123,
           0.32687165775401067,
           0.37232620320855614,
           0.865975935828877,
           0.6433823529411765,
           0.6774732620320856,
           0.2266042780748663,
           -0.44385026737967914,
           -0.43716577540106955,
           -0.49318960646830734,
           -0.5344251336898396,
           -0.6617647058823529,
           -0.6223262032085561,
           -0.8018048128342246,
           0.4789438502673797,
           0.5334224598930482,
           0.3272058823529412,
           -0.44585561497326204,
           -0.21758021390374332
          ],
          [
           0.6864973262032086,
           -0.12032085561497326,
           -0.06450534759358288,
           0.3622994652406417,
           0.7369652406417112,
           -0.3272058823529412,
           0.4799465240641711,
           0.39204545454545453,
           -0.7586898395721925,
           1,
           0.07252673796791444,
           0.5845588235294118,
           -0.029581348812229888,
           -0.703542780748663,
           0.2252673796791444,
           -0.3927139037433155,
           -0.39037433155080214,
           -0.7837566844919787,
           -0.3643048128342246,
           -0.4127673796791444,
           -0.24598930481283424,
           0.5919117647058824,
           0.3803475935828877,
           0.5080638440066603,
           0.48061497326203206,
           0.5401069518716578,
           0.5484625668449198,
           0.902072192513369,
           -0.39739304812834225,
           -0.21657754010695188,
           -0.3950534759358289,
           0.3696524064171123,
           0.24899732620320855
          ],
          [
           -0.16109625668449198,
           -0.7707219251336899,
           -0.5661764705882353,
           0.75701871657754,
           0.580548128342246,
           -0.7767379679144385,
           -0.6644385026737968,
           0.8656417112299465,
           -0.09224598930481283,
           0.07252673796791444,
           1,
           0.6296791443850267,
           0.28729004863402924,
           0.027072192513368985,
           -0.7897727272727273,
           -0.8014705882352942,
           -0.6280080213903744,
           -0.2747326203208556,
           -0.5457887700534759,
           -0.5822192513368984,
           -0.7700534759358288,
           0.704879679144385,
           0.7245989304812834,
           0.7789755187220537,
           0.8145053475935828,
           0.6407085561497327,
           0.7463235294117647,
           0.3024732620320856,
           0.6233288770053476,
           -0.6026069518716578,
           0.09057486631016043,
           0.6163101604278075,
           0.8068181818181818
          ],
          [
           0.3018048128342246,
           -0.6961898395721925,
           -0.6062834224598931,
           0.856951871657754,
           0.7650401069518716,
           -0.669451871657754,
           -0.0661764705882353,
           0.6447192513368984,
           -0.5584893048128342,
           0.5845588235294118,
           0.6296791443850267,
           1,
           0.2735856949470075,
           -0.48663101604278075,
           -0.4207887700534759,
           -0.7881016042780749,
           -0.625,
           -0.5494652406417112,
           -0.5671791443850267,
           -0.758355614973262,
           -0.8064839572192514,
           0.6397058823529411,
           0.7403074866310161,
           0.8453246457189761,
           0.8318850267379679,
           0.8556149732620321,
           0.8435828877005348,
           0.6183155080213903,
           0.2600267379679144,
           -0.7022058823529411,
           -0.037098930481283425,
           0.732620320855615,
           0.8252005347593583
          ],
          [
           -0.5114063692961778,
           -0.02857859122537464,
           -0.20038439110657422,
           0.3633324989705524,
           -0.13854767325050044,
           -0.16662488568244746,
           -0.18266900707213146,
           0.22027241657920335,
           0.28612016478269814,
           -0.029581348812229888,
           0.28729004863402924,
           0.2735856949470075,
           1,
           0.3915768376669753,
           -0.17147154735224784,
           -0.3487925139611513,
           -0.09342358184201417,
           0.16896465338510971,
           0.32623046825690816,
           0.08540152114717217,
           -0.36232974138369717,
           0.08991393028802079,
           0.3494610190190548,
           0.13137222129366538,
           0.17815659793128283,
           0.18768279500640772,
           0.09860449604076629,
           -0.10645943047113243,
           0.6080053501632335,
           -0.04261719744134815,
           -0.18183337574975209,
           -0.13921617830840394,
           0.4231637016529157
          ],
          [
           -0.8793449197860963,
           0.3669786096256685,
           0.28442513368983957,
           -0.32286096256684493,
           -0.6500668449197861,
           0.2887700534759358,
           -0.4087566844919786,
           -0.17179144385026737,
           0.9421791443850267,
           -0.703542780748663,
           0.027072192513368985,
           -0.48663101604278075,
           0.3915768376669753,
           1,
           -0.12299465240641712,
           0.24565508021390375,
           0.3582887700534759,
           0.7794117647058824,
           0.6457219251336899,
           0.6911764705882353,
           0.204879679144385,
           -0.3235294117647059,
           -0.3252005347593583,
           -0.4472298837374417,
           -0.43683155080213903,
           -0.56951871657754,
           -0.5501336898395722,
           -0.6998663101604278,
           0.5284090909090909,
           0.5193850267379679,
           0.25635026737967914,
           -0.46891711229946526,
           -0.1657754010695187
          ],
          [
           0.2710561497326203,
           0.8191844919786097,
           0.7058823529411765,
           -0.615975935828877,
           -0.33455882352941174,
           0.6587566844919787,
           0.8165106951871658,
           -0.5601604278074866,
           -0.1196524064171123,
           0.2252673796791444,
           -0.7897727272727273,
           -0.4207887700534759,
           -0.17147154735224784,
           -0.12299465240641712,
           1,
           0.6841577540106952,
           0.6390374331550802,
           0.012366310160427808,
           0.47961229946524064,
           0.5320855614973262,
           0.7974598930481284,
           -0.42814171122994654,
           -0.40942513368983957,
           -0.6456087596703054,
           -0.5681818181818182,
           -0.40106951871657753,
           -0.5207219251336899,
           0.035093582887700536,
           -0.7252673796791443,
           0.5608288770053476,
           -0.42245989304812837,
           -0.6413770053475936,
           -0.7342914438502673
          ],
          [
           -0.02072192513368984,
           0.7847593582887701,
           0.6219919786096256,
           -0.8201871657754011,
           -0.7219251336898396,
           0.9047459893048129,
           0.46189839572192515,
           -0.8201871657754011,
           0.32687165775401067,
           -0.3927139037433155,
           -0.8014705882352942,
           -0.7881016042780749,
           -0.3487925139611513,
           0.24565508021390375,
           0.6841577540106952,
           1,
           0.8345588235294118,
           0.5130347593582888,
           0.6019385026737968,
           0.7008689839572193,
           0.8897058823529411,
           -0.785427807486631,
           -0.7426470588235294,
           -0.8735689844153991,
           -0.8399064171122995,
           -0.7663770053475936,
           -0.8372326203208557,
           -0.5200534759358288,
           -0.5010026737967914,
           0.6697860962566845,
           0.03843582887700535,
           -0.7108957219251337,
           -0.8753342245989305
          ],
          [
           -0.15307486631016043,
           0.7309491978609626,
           0.6915106951871658,
           -0.6768048128342246,
           -0.6744652406417112,
           0.8402406417112299,
           0.43783422459893045,
           -0.6627673796791443,
           0.37232620320855614,
           -0.39037433155080214,
           -0.6280080213903744,
           -0.625,
           -0.09342358184201417,
           0.3582887700534759,
           0.6390374331550802,
           0.8345588235294118,
           1,
           0.55548128342246,
           0.671457219251337,
           0.7312834224598931,
           0.7790775401069518,
           -0.6574197860962567,
           -0.5651737967914439,
           -0.8150747918488428,
           -0.7466577540106952,
           -0.6253342245989305,
           -0.7403074866310161,
           -0.49933155080213903,
           -0.3135026737967914,
           0.6273395721925134,
           0.03943850267379679,
           -0.6721256684491979,
           -0.6697860962566845
          ],
          [
           -0.7212566844919787,
           0.42379679144385024,
           0.25133689839572193,
           -0.44418449197860965,
           -0.8028074866310161,
           0.5862299465240641,
           -0.20287433155080214,
           -0.5511363636363636,
           0.865975935828877,
           -0.7837566844919787,
           -0.2747326203208556,
           -0.5494652406417112,
           0.16896465338510971,
           0.7794117647058824,
           0.012366310160427808,
           0.5130347593582888,
           0.55548128342246,
           1,
           0.7393048128342246,
           0.6915106951871658,
           0.31216577540106955,
           -0.6483957219251337,
           -0.5892379679144385,
           -0.5973092692367775,
           -0.6637700534759359,
           -0.7205882352941176,
           -0.7299465240641712,
           -0.8853609625668449,
           0.30514705882352944,
           0.5852272727272727,
           0.42212566844919786,
           -0.43816844919786097,
           -0.32887700534759357
          ],
          [
           -0.5140374331550802,
           0.8011363636363636,
           0.6039438502673797,
           -0.598596256684492,
           -0.7540106951871658,
           0.7159090909090909,
           0.30213903743315507,
           -0.5899064171122995,
           0.6433823529411765,
           -0.3643048128342246,
           -0.5457887700534759,
           -0.5671791443850267,
           0.32623046825690816,
           0.6457219251336899,
           0.47961229946524064,
           0.6019385026737968,
           0.671457219251337,
           0.7393048128342246,
           1,
           0.9054144385026738,
           0.5544786096256684,
           -0.5765374331550802,
           -0.5858957219251337,
           -0.7381967101899403,
           -0.7436497326203209,
           -0.7012032085561497,
           -0.8058155080213903,
           -0.5494652406417112,
           0.014371657754010695,
           0.8185160427807486,
           0.042446524064171126,
           -0.7052139037433155,
           -0.5320855614973262
          ],
          [
           -0.4732620320855615,
           0.8866978609625669,
           0.75701871657754,
           -0.7523395721925134,
           -0.7643716577540107,
           0.7272727272727273,
           0.2286096256684492,
           -0.5802139037433155,
           0.6774732620320856,
           -0.4127673796791444,
           -0.5822192513368984,
           -0.758355614973262,
           0.08540152114717217,
           0.6911764705882353,
           0.5320855614973262,
           0.7008689839572193,
           0.7312834224598931,
           0.6915106951871658,
           0.9054144385026738,
           1,
           0.7199197860962567,
           -0.5521390374331551,
           -0.6798128342245989,
           -0.8332915546767131,
           -0.8252005347593583,
           -0.8171791443850267,
           -0.8786764705882353,
           -0.5457887700534759,
           -0.10728609625668449,
           0.9244652406417112,
           0.0033422459893048127,
           -0.7881016042780749,
           -0.6911764705882353
          ],
          [
           0.04378342245989305,
           0.838903743315508,
           0.7834224598930482,
           -0.9000668449197861,
           -0.5992647058823529,
           0.7700534759358288,
           0.5093582887700535,
           -0.6881684491978609,
           0.2266042780748663,
           -0.24598930481283424,
           -0.7700534759358288,
           -0.8064839572192514,
           -0.36232974138369717,
           0.204879679144385,
           0.7974598930481284,
           0.8897058823529411,
           0.7790775401069518,
           0.31216577540106955,
           0.5544786096256684,
           0.7199197860962567,
           1,
           -0.6270053475935828,
           -0.6764705882352942,
           -0.8708949641837851,
           -0.8135026737967914,
           -0.7332887700534759,
           -0.7877673796791443,
           -0.3292112299465241,
           -0.6116310160427807,
           0.6998663101604278,
           -0.1483957219251337,
           -0.740975935828877,
           -0.9425133689839572
          ],
          [
           0.27406417112299464,
           -0.5508021390374331,
           -0.277072192513369,
           0.6657754010695187,
           0.8673128342245989,
           -0.7142379679144385,
           -0.20554812834224598,
           0.902072192513369,
           -0.44385026737967914,
           0.5919117647058824,
           0.704879679144385,
           0.6397058823529411,
           0.08991393028802079,
           -0.3235294117647059,
           -0.42814171122994654,
           -0.785427807486631,
           -0.6574197860962567,
           -0.6483957219251337,
           -0.5765374331550802,
           -0.5521390374331551,
           -0.6270053475935828,
           1,
           0.7038770053475936,
           0.7888359683261303,
           0.8064839572192514,
           0.6935160427807486,
           0.8044786096256684,
           0.7633689839572193,
           0.18382352941176472,
           -0.43616310160427807,
           -0.11931818181818182,
           0.6363636363636364,
           0.6768048128342246
          ],
          [
           0.10594919786096256,
           -0.6427139037433155,
           -0.4872994652406417,
           0.8302139037433155,
           0.6821524064171123,
           -0.6928475935828877,
           -0.23629679144385027,
           0.8084893048128342,
           -0.43716577540106955,
           0.3803475935828877,
           0.7245989304812834,
           0.7403074866310161,
           0.3494610190190548,
           -0.3252005347593583,
           -0.40942513368983957,
           -0.7426470588235294,
           -0.5651737967914439,
           -0.5892379679144385,
           -0.5858957219251337,
           -0.6798128342245989,
           -0.6764705882352942,
           0.7038770053475936,
           1,
           0.7462187708847823,
           0.8977272727272727,
           0.8947192513368984,
           0.8529411764705882,
           0.5855614973262032,
           0.3522727272727273,
           -0.7159090909090909,
           -0.26169786096256686,
           0.4625668449197861,
           0.7800802139037433
          ],
          [
           0.2503551441848609,
           -0.8277763879490093,
           -0.702431689592103,
           0.8769115097049166,
           0.8565221054388598,
           -0.8304504081806233,
           -0.3427759684400198,
           0.8112308877658977,
           -0.49318960646830734,
           0.5080638440066603,
           0.7789755187220537,
           0.8453246457189761,
           0.13137222129366538,
           -0.4472298837374417,
           -0.6456087596703054,
           -0.8735689844153991,
           -0.8150747918488428,
           -0.5973092692367775,
           -0.7381967101899403,
           -0.8332915546767131,
           -0.8708949641837851,
           0.7888359683261303,
           0.7462187708847823,
           1,
           0.9183588232949336,
           0.8291133980648163,
           0.9305590406016725,
           0.6243837240818693,
           0.3212166803226319,
           -0.7343528061069952,
           0.050806384400666024,
           0.8251023677173953,
           0.8421492466939345
          ],
          [
           0.24866310160427807,
           -0.7997994652406417,
           -0.6256684491978609,
           0.8873663101604278,
           0.8419117647058824,
           -0.8125,
           -0.2820855614973262,
           0.8843582887700535,
           -0.5344251336898396,
           0.48061497326203206,
           0.8145053475935828,
           0.8318850267379679,
           0.17815659793128283,
           -0.43683155080213903,
           -0.5681818181818182,
           -0.8399064171122995,
           -0.7466577540106952,
           -0.6637700534759359,
           -0.7436497326203209,
           -0.8252005347593583,
           -0.8135026737967914,
           0.8064839572192514,
           0.8977272727272727,
           0.9183588232949336,
           1,
           0.9241310160427807,
           0.9669117647058824,
           0.6671122994652406,
           0.32887700534759357,
           -0.7857620320855615,
           -0.08723262032085562,
           0.7212566844919787,
           0.8442513368983957
          ],
          [
           0.35093582887700536,
           -0.7175802139037433,
           -0.5437834224598931,
           0.8723262032085561,
           0.8125,
           -0.7092245989304813,
           -0.06651069518716578,
           0.758355614973262,
           -0.6617647058823529,
           0.5401069518716578,
           0.6407085561497327,
           0.8556149732620321,
           0.18768279500640772,
           -0.56951871657754,
           -0.40106951871657753,
           -0.7663770053475936,
           -0.6253342245989305,
           -0.7205882352941176,
           -0.7012032085561497,
           -0.8171791443850267,
           -0.7332887700534759,
           0.6935160427807486,
           0.8947192513368984,
           0.8291133980648163,
           0.9241310160427807,
           1,
           0.9174465240641712,
           0.7115641711229946,
           0.22292780748663102,
           -0.7824197860962567,
           -0.16744652406417113,
           0.6440508021390374,
           0.8058155080213903
          ],
          [
           0.36463903743315507,
           -0.8188502673796791,
           -0.6163101604278075,
           0.8723262032085561,
           0.8940508021390374,
           -0.8185160427807486,
           -0.22225935828877005,
           0.8399064171122995,
           -0.6223262032085561,
           0.5484625668449198,
           0.7463235294117647,
           0.8435828877005348,
           0.09860449604076629,
           -0.5501336898395722,
           -0.5207219251336899,
           -0.8372326203208557,
           -0.7403074866310161,
           -0.7299465240641712,
           -0.8058155080213903,
           -0.8786764705882353,
           -0.7877673796791443,
           0.8044786096256684,
           0.8529411764705882,
           0.9305590406016725,
           0.9669117647058824,
           0.9174465240641712,
           1,
           0.7162433155080213,
           0.21657754010695188,
           -0.8272058823529411,
           -0.10628342245989304,
           0.7640374331550802,
           0.8114973262032086
          ],
          [
           0.6724598930481284,
           -0.321524064171123,
           -0.10127005347593583,
           0.48562834224598933,
           0.8753342245989305,
           -0.5120320855614974,
           0.3074866310160428,
           0.616644385026738,
           -0.8018048128342246,
           0.902072192513369,
           0.3024732620320856,
           0.6183155080213903,
           -0.10645943047113243,
           -0.6998663101604278,
           0.035093582887700536,
           -0.5200534759358288,
           -0.49933155080213903,
           -0.8853609625668449,
           -0.5494652406417112,
           -0.5457887700534759,
           -0.3292112299465241,
           0.7633689839572193,
           0.5855614973262032,
           0.6243837240818693,
           0.6671122994652406,
           0.7115641711229946,
           0.7162433155080213,
           1,
           -0.30280748663101603,
           -0.3803475935828877,
           -0.31383689839572193,
           0.4959893048128342,
           0.3830213903743315
          ],
          [
           -0.7232620320855615,
           -0.4354946524064171,
           -0.4585561497326203,
           0.5203877005347594,
           -0.04946524064171123,
           -0.3907085561497326,
           -0.713903743315508,
           0.3947192513368984,
           0.4789438502673797,
           -0.39739304812834225,
           0.6233288770053476,
           0.2600267379679144,
           0.6080053501632335,
           0.5284090909090909,
           -0.7252673796791443,
           -0.5010026737967914,
           -0.3135026737967914,
           0.30514705882352944,
           0.014371657754010695,
           -0.10728609625668449,
           -0.6116310160427807,
           0.18382352941176472,
           0.3522727272727273,
           0.3212166803226319,
           0.32887700534759357,
           0.22292780748663102,
           0.21657754010695188,
           -0.30280748663101603,
           1,
           -0.24364973262032086,
           0.23094919786096257,
           0.18449197860962566,
           0.6470588235294118
          ],
          [
           -0.2867647058823529,
           0.8793449197860963,
           0.7640374331550802,
           -0.7195855614973262,
           -0.5949197860962567,
           0.7075534759358288,
           0.3091577540106952,
           -0.5367647058823529,
           0.5334224598930482,
           -0.21657754010695188,
           -0.6026069518716578,
           -0.7022058823529411,
           -0.04261719744134815,
           0.5193850267379679,
           0.5608288770053476,
           0.6697860962566845,
           0.6273395721925134,
           0.5852272727272727,
           0.8185160427807486,
           0.9244652406417112,
           0.6998663101604278,
           -0.43616310160427807,
           -0.7159090909090909,
           -0.7343528061069952,
           -0.7857620320855615,
           -0.7824197860962567,
           -0.8272058823529411,
           -0.3803475935828877,
           -0.24364973262032086,
           1,
           0.03141711229946524,
           -0.63201871657754,
           -0.6774732620320856
          ],
          [
           -0.18382352941176472,
           -0.2232620320855615,
           -0.16945187165775402,
           -0.0006684491978609625,
           -0.0625,
           0.07453208556149733,
           -0.29010695187165775,
           -0.07520053475935828,
           0.3272058823529412,
           -0.3950534759358289,
           0.09057486631016043,
           -0.037098930481283425,
           -0.18183337574975209,
           0.25635026737967914,
           -0.42245989304812837,
           0.03843582887700535,
           0.03943850267379679,
           0.42212566844919786,
           0.042446524064171126,
           0.0033422459893048127,
           -0.1483957219251337,
           -0.11931818181818182,
           -0.26169786096256686,
           0.050806384400666024,
           -0.08723262032085562,
           -0.16744652406417113,
           -0.10628342245989304,
           -0.31383689839572193,
           0.23094919786096257,
           0.03141711229946524,
           1,
           0.40274064171123,
           0.0945855614973262
          ],
          [
           0.35862299465240643,
           -0.8211898395721925,
           -0.5808823529411765,
           0.6898395721925134,
           0.7967914438502673,
           -0.6524064171122995,
           -0.2667112299465241,
           0.5975935828877005,
           -0.44585561497326204,
           0.3696524064171123,
           0.6163101604278075,
           0.732620320855615,
           -0.13921617830840394,
           -0.46891711229946526,
           -0.6413770053475936,
           -0.7108957219251337,
           -0.6721256684491979,
           -0.43816844919786097,
           -0.7052139037433155,
           -0.7881016042780749,
           -0.740975935828877,
           0.6363636363636364,
           0.4625668449197861,
           0.8251023677173953,
           0.7212566844919787,
           0.6440508021390374,
           0.7640374331550802,
           0.4959893048128342,
           0.18449197860962566,
           -0.63201871657754,
           0.40274064171123,
           1,
           0.7179144385026738
          ],
          [
           -0.0625,
           -0.7991310160427807,
           -0.6440508021390374,
           0.9441844919786097,
           0.6353609625668449,
           -0.7439839572192514,
           -0.4405080213903743,
           0.7580213903743316,
           -0.21758021390374332,
           0.24899732620320855,
           0.8068181818181818,
           0.8252005347593583,
           0.4231637016529157,
           -0.1657754010695187,
           -0.7342914438502673,
           -0.8753342245989305,
           -0.6697860962566845,
           -0.32887700534759357,
           -0.5320855614973262,
           -0.6911764705882353,
           -0.9425133689839572,
           0.6768048128342246,
           0.7800802139037433,
           0.8421492466939345,
           0.8442513368983957,
           0.8058155080213903,
           0.8114973262032086,
           0.3830213903743315,
           0.6470588235294118,
           -0.6774732620320856,
           0.0945855614973262,
           0.7179144385026738,
           1
          ]
         ]
        }
       ],
       "layout": {
        "barmode": "relative",
        "height": 1200,
        "template": {
         "data": {
          "bar": [
           {
            "error_x": {
             "color": "#2a3f5f"
            },
            "error_y": {
             "color": "#2a3f5f"
            },
            "marker": {
             "line": {
              "color": "#E5ECF6",
              "width": 0.5
             },
             "pattern": {
              "fillmode": "overlay",
              "size": 10,
              "solidity": 0.2
             }
            },
            "type": "bar"
           }
          ],
          "barpolar": [
           {
            "marker": {
             "line": {
              "color": "#E5ECF6",
              "width": 0.5
             },
             "pattern": {
              "fillmode": "overlay",
              "size": 10,
              "solidity": 0.2
             }
            },
            "type": "barpolar"
           }
          ],
          "carpet": [
           {
            "aaxis": {
             "endlinecolor": "#2a3f5f",
             "gridcolor": "white",
             "linecolor": "white",
             "minorgridcolor": "white",
             "startlinecolor": "#2a3f5f"
            },
            "baxis": {
             "endlinecolor": "#2a3f5f",
             "gridcolor": "white",
             "linecolor": "white",
             "minorgridcolor": "white",
             "startlinecolor": "#2a3f5f"
            },
            "type": "carpet"
           }
          ],
          "choropleth": [
           {
            "colorbar": {
             "outlinewidth": 0,
             "ticks": ""
            },
            "type": "choropleth"
           }
          ],
          "contour": [
           {
            "colorbar": {
             "outlinewidth": 0,
             "ticks": ""
            },
            "colorscale": [
             [
              0,
              "#0d0887"
             ],
             [
              0.1111111111111111,
              "#46039f"
             ],
             [
              0.2222222222222222,
              "#7201a8"
             ],
             [
              0.3333333333333333,
              "#9c179e"
             ],
             [
              0.4444444444444444,
              "#bd3786"
             ],
             [
              0.5555555555555556,
              "#d8576b"
             ],
             [
              0.6666666666666666,
              "#ed7953"
             ],
             [
              0.7777777777777778,
              "#fb9f3a"
             ],
             [
              0.8888888888888888,
              "#fdca26"
             ],
             [
              1,
              "#f0f921"
             ]
            ],
            "type": "contour"
           }
          ],
          "contourcarpet": [
           {
            "colorbar": {
             "outlinewidth": 0,
             "ticks": ""
            },
            "type": "contourcarpet"
           }
          ],
          "heatmap": [
           {
            "colorbar": {
             "outlinewidth": 0,
             "ticks": ""
            },
            "colorscale": [
             [
              0,
              "#0d0887"
             ],
             [
              0.1111111111111111,
              "#46039f"
             ],
             [
              0.2222222222222222,
              "#7201a8"
             ],
             [
              0.3333333333333333,
              "#9c179e"
             ],
             [
              0.4444444444444444,
              "#bd3786"
             ],
             [
              0.5555555555555556,
              "#d8576b"
             ],
             [
              0.6666666666666666,
              "#ed7953"
             ],
             [
              0.7777777777777778,
              "#fb9f3a"
             ],
             [
              0.8888888888888888,
              "#fdca26"
             ],
             [
              1,
              "#f0f921"
             ]
            ],
            "type": "heatmap"
           }
          ],
          "heatmapgl": [
           {
            "colorbar": {
             "outlinewidth": 0,
             "ticks": ""
            },
            "colorscale": [
             [
              0,
              "#0d0887"
             ],
             [
              0.1111111111111111,
              "#46039f"
             ],
             [
              0.2222222222222222,
              "#7201a8"
             ],
             [
              0.3333333333333333,
              "#9c179e"
             ],
             [
              0.4444444444444444,
              "#bd3786"
             ],
             [
              0.5555555555555556,
              "#d8576b"
             ],
             [
              0.6666666666666666,
              "#ed7953"
             ],
             [
              0.7777777777777778,
              "#fb9f3a"
             ],
             [
              0.8888888888888888,
              "#fdca26"
             ],
             [
              1,
              "#f0f921"
             ]
            ],
            "type": "heatmapgl"
           }
          ],
          "histogram": [
           {
            "marker": {
             "pattern": {
              "fillmode": "overlay",
              "size": 10,
              "solidity": 0.2
             }
            },
            "type": "histogram"
           }
          ],
          "histogram2d": [
           {
            "colorbar": {
             "outlinewidth": 0,
             "ticks": ""
            },
            "colorscale": [
             [
              0,
              "#0d0887"
             ],
             [
              0.1111111111111111,
              "#46039f"
             ],
             [
              0.2222222222222222,
              "#7201a8"
             ],
             [
              0.3333333333333333,
              "#9c179e"
             ],
             [
              0.4444444444444444,
              "#bd3786"
             ],
             [
              0.5555555555555556,
              "#d8576b"
             ],
             [
              0.6666666666666666,
              "#ed7953"
             ],
             [
              0.7777777777777778,
              "#fb9f3a"
             ],
             [
              0.8888888888888888,
              "#fdca26"
             ],
             [
              1,
              "#f0f921"
             ]
            ],
            "type": "histogram2d"
           }
          ],
          "histogram2dcontour": [
           {
            "colorbar": {
             "outlinewidth": 0,
             "ticks": ""
            },
            "colorscale": [
             [
              0,
              "#0d0887"
             ],
             [
              0.1111111111111111,
              "#46039f"
             ],
             [
              0.2222222222222222,
              "#7201a8"
             ],
             [
              0.3333333333333333,
              "#9c179e"
             ],
             [
              0.4444444444444444,
              "#bd3786"
             ],
             [
              0.5555555555555556,
              "#d8576b"
             ],
             [
              0.6666666666666666,
              "#ed7953"
             ],
             [
              0.7777777777777778,
              "#fb9f3a"
             ],
             [
              0.8888888888888888,
              "#fdca26"
             ],
             [
              1,
              "#f0f921"
             ]
            ],
            "type": "histogram2dcontour"
           }
          ],
          "mesh3d": [
           {
            "colorbar": {
             "outlinewidth": 0,
             "ticks": ""
            },
            "type": "mesh3d"
           }
          ],
          "parcoords": [
           {
            "line": {
             "colorbar": {
              "outlinewidth": 0,
              "ticks": ""
             }
            },
            "type": "parcoords"
           }
          ],
          "pie": [
           {
            "automargin": true,
            "type": "pie"
           }
          ],
          "scatter": [
           {
            "fillpattern": {
             "fillmode": "overlay",
             "size": 10,
             "solidity": 0.2
            },
            "type": "scatter"
           }
          ],
          "scatter3d": [
           {
            "line": {
             "colorbar": {
              "outlinewidth": 0,
              "ticks": ""
             }
            },
            "marker": {
             "colorbar": {
              "outlinewidth": 0,
              "ticks": ""
             }
            },
            "type": "scatter3d"
           }
          ],
          "scattercarpet": [
           {
            "marker": {
             "colorbar": {
              "outlinewidth": 0,
              "ticks": ""
             }
            },
            "type": "scattercarpet"
           }
          ],
          "scattergeo": [
           {
            "marker": {
             "colorbar": {
              "outlinewidth": 0,
              "ticks": ""
             }
            },
            "type": "scattergeo"
           }
          ],
          "scattergl": [
           {
            "marker": {
             "colorbar": {
              "outlinewidth": 0,
              "ticks": ""
             }
            },
            "type": "scattergl"
           }
          ],
          "scattermapbox": [
           {
            "marker": {
             "colorbar": {
              "outlinewidth": 0,
              "ticks": ""
             }
            },
            "type": "scattermapbox"
           }
          ],
          "scatterpolar": [
           {
            "marker": {
             "colorbar": {
              "outlinewidth": 0,
              "ticks": ""
             }
            },
            "type": "scatterpolar"
           }
          ],
          "scatterpolargl": [
           {
            "marker": {
             "colorbar": {
              "outlinewidth": 0,
              "ticks": ""
             }
            },
            "type": "scatterpolargl"
           }
          ],
          "scatterternary": [
           {
            "marker": {
             "colorbar": {
              "outlinewidth": 0,
              "ticks": ""
             }
            },
            "type": "scatterternary"
           }
          ],
          "surface": [
           {
            "colorbar": {
             "outlinewidth": 0,
             "ticks": ""
            },
            "colorscale": [
             [
              0,
              "#0d0887"
             ],
             [
              0.1111111111111111,
              "#46039f"
             ],
             [
              0.2222222222222222,
              "#7201a8"
             ],
             [
              0.3333333333333333,
              "#9c179e"
             ],
             [
              0.4444444444444444,
              "#bd3786"
             ],
             [
              0.5555555555555556,
              "#d8576b"
             ],
             [
              0.6666666666666666,
              "#ed7953"
             ],
             [
              0.7777777777777778,
              "#fb9f3a"
             ],
             [
              0.8888888888888888,
              "#fdca26"
             ],
             [
              1,
              "#f0f921"
             ]
            ],
            "type": "surface"
           }
          ],
          "table": [
           {
            "cells": {
             "fill": {
              "color": "#EBF0F8"
             },
             "line": {
              "color": "white"
             }
            },
            "header": {
             "fill": {
              "color": "#C8D4E3"
             },
             "line": {
              "color": "white"
             }
            },
            "type": "table"
           }
          ]
         },
         "layout": {
          "annotationdefaults": {
           "arrowcolor": "#2a3f5f",
           "arrowhead": 0,
           "arrowwidth": 1
          },
          "autotypenumbers": "strict",
          "coloraxis": {
           "colorbar": {
            "outlinewidth": 0,
            "ticks": ""
           }
          },
          "colorscale": {
           "diverging": [
            [
             0,
             "#8e0152"
            ],
            [
             0.1,
             "#c51b7d"
            ],
            [
             0.2,
             "#de77ae"
            ],
            [
             0.3,
             "#f1b6da"
            ],
            [
             0.4,
             "#fde0ef"
            ],
            [
             0.5,
             "#f7f7f7"
            ],
            [
             0.6,
             "#e6f5d0"
            ],
            [
             0.7,
             "#b8e186"
            ],
            [
             0.8,
             "#7fbc41"
            ],
            [
             0.9,
             "#4d9221"
            ],
            [
             1,
             "#276419"
            ]
           ],
           "sequential": [
            [
             0,
             "#0d0887"
            ],
            [
             0.1111111111111111,
             "#46039f"
            ],
            [
             0.2222222222222222,
             "#7201a8"
            ],
            [
             0.3333333333333333,
             "#9c179e"
            ],
            [
             0.4444444444444444,
             "#bd3786"
            ],
            [
             0.5555555555555556,
             "#d8576b"
            ],
            [
             0.6666666666666666,
             "#ed7953"
            ],
            [
             0.7777777777777778,
             "#fb9f3a"
            ],
            [
             0.8888888888888888,
             "#fdca26"
            ],
            [
             1,
             "#f0f921"
            ]
           ],
           "sequentialminus": [
            [
             0,
             "#0d0887"
            ],
            [
             0.1111111111111111,
             "#46039f"
            ],
            [
             0.2222222222222222,
             "#7201a8"
            ],
            [
             0.3333333333333333,
             "#9c179e"
            ],
            [
             0.4444444444444444,
             "#bd3786"
            ],
            [
             0.5555555555555556,
             "#d8576b"
            ],
            [
             0.6666666666666666,
             "#ed7953"
            ],
            [
             0.7777777777777778,
             "#fb9f3a"
            ],
            [
             0.8888888888888888,
             "#fdca26"
            ],
            [
             1,
             "#f0f921"
            ]
           ]
          },
          "colorway": [
           "#636efa",
           "#EF553B",
           "#00cc96",
           "#ab63fa",
           "#FFA15A",
           "#19d3f3",
           "#FF6692",
           "#B6E880",
           "#FF97FF",
           "#FECB52"
          ],
          "font": {
           "color": "#2a3f5f"
          },
          "geo": {
           "bgcolor": "white",
           "lakecolor": "white",
           "landcolor": "#E5ECF6",
           "showlakes": true,
           "showland": true,
           "subunitcolor": "white"
          },
          "hoverlabel": {
           "align": "left"
          },
          "hovermode": "closest",
          "mapbox": {
           "style": "light"
          },
          "paper_bgcolor": "white",
          "plot_bgcolor": "#E5ECF6",
          "polar": {
           "angularaxis": {
            "gridcolor": "white",
            "linecolor": "white",
            "ticks": ""
           },
           "bgcolor": "#E5ECF6",
           "radialaxis": {
            "gridcolor": "white",
            "linecolor": "white",
            "ticks": ""
           }
          },
          "scene": {
           "xaxis": {
            "backgroundcolor": "#E5ECF6",
            "gridcolor": "white",
            "gridwidth": 2,
            "linecolor": "white",
            "showbackground": true,
            "ticks": "",
            "zerolinecolor": "white"
           },
           "yaxis": {
            "backgroundcolor": "#E5ECF6",
            "gridcolor": "white",
            "gridwidth": 2,
            "linecolor": "white",
            "showbackground": true,
            "ticks": "",
            "zerolinecolor": "white"
           },
           "zaxis": {
            "backgroundcolor": "#E5ECF6",
            "gridcolor": "white",
            "gridwidth": 2,
            "linecolor": "white",
            "showbackground": true,
            "ticks": "",
            "zerolinecolor": "white"
           }
          },
          "shapedefaults": {
           "line": {
            "color": "#2a3f5f"
           }
          },
          "ternary": {
           "aaxis": {
            "gridcolor": "white",
            "linecolor": "white",
            "ticks": ""
           },
           "baxis": {
            "gridcolor": "white",
            "linecolor": "white",
            "ticks": ""
           },
           "bgcolor": "#E5ECF6",
           "caxis": {
            "gridcolor": "white",
            "linecolor": "white",
            "ticks": ""
           }
          },
          "title": {
           "x": 0.05
          },
          "xaxis": {
           "automargin": true,
           "gridcolor": "white",
           "linecolor": "white",
           "ticks": "",
           "title": {
            "standoff": 15
           },
           "zerolinecolor": "white",
           "zerolinewidth": 2
          },
          "yaxis": {
           "automargin": true,
           "gridcolor": "white",
           "linecolor": "white",
           "ticks": "",
           "title": {
            "standoff": 15
           },
           "zerolinecolor": "white",
           "zerolinewidth": 2
          }
         }
        },
        "title": {
         "text": "Compotamento da variável console"
        },
        "width": 1200
       }
      }
     },
     "metadata": {},
     "output_type": "display_data"
    }
   ],
   "source": [
    "fig = go.Figure()\n",
    "fig.add_trace(\n",
    "    go.Heatmap(\n",
    "        x=df_corr.columns,\n",
    "        y=df_corr.index,\n",
    "        z= df_corr,\n",
    "        text=df_corr.values,\n",
    "        texttemplate='%{text:.2f}'\n",
    "        )\n",
    ")\n",
    "fig.update_layout(\n",
    "    width = 1200, height = 1200,\n",
    "    title_text = f'Compotamento da variável {df.columns[1]}',\n",
    "    barmode='relative',\n",
    "    )\n",
    "fig.show()"
   ]
  },
  {
   "cell_type": "code",
   "execution_count": 40,
   "metadata": {},
   "outputs": [],
   "source": [
    "rename_esrb = {'E': 0,'ET': 1,'M': 2,'T': 3}\n",
    "df_corr = df.copy()\n",
    "df_corr.replace(rename_esrb, inplace=True)\n",
    "df_corr.drop('title', axis = 1, inplace=True) \n",
    "results_corr = {}\n",
    "for i in ['spearman', 'kendall', 'pearson']:\n",
    "    df_corr = df_corr.corr(method='spearman')\n",
    "    values = pd.concat([df_corr[df_corr['esrb_rating']>0.1]['esrb_rating'],df_corr[df_corr['esrb_rating']<-0.1]['esrb_rating']]) # Foi admitido 0.1 tanto positivo quanto negativo\n",
    "    results_corr[i] = values"
   ]
  },
  {
   "cell_type": "code",
   "execution_count": 41,
   "metadata": {},
   "outputs": [
    {
     "data": {
      "text/plain": [
       "{'spearman': blood                     0.410961\n",
       " blood_and_gore            0.131583\n",
       " crude_humor               0.139683\n",
       " intense_violence          0.124627\n",
       " language                  0.196516\n",
       " mild_blood                0.131299\n",
       " mild_suggestive_themes    0.110542\n",
       " sexual_content            0.103436\n",
       " sexual_themes             0.109425\n",
       " simulated_gambling        0.179591\n",
       " suggestive_themes         0.269292\n",
       " violence                  0.237895\n",
       " esrb_rating               1.000000\n",
       " mild_cartoon_violence    -0.111653\n",
       " mild_fantasy_violence    -0.280977\n",
       " no_descriptors           -0.478738\n",
       " Name: esrb_rating, dtype: float64,\n",
       " 'kendall': blood                       0.548797\n",
       " blood_and_gore              0.352273\n",
       " drug_reference              0.364502\n",
       " fantasy_violence            0.154926\n",
       " intense_violence            0.197861\n",
       " language                    0.428810\n",
       " lyrics                      0.471925\n",
       " mature_humor                0.280271\n",
       " mild_blood                  0.184158\n",
       " mild_suggestive_themes      0.167112\n",
       " nudity                      0.315033\n",
       " partial_nudity              0.318710\n",
       " sexual_content              0.485294\n",
       " sexual_themes               0.473596\n",
       " simulated_gambling          0.567848\n",
       " strong_janguage             0.456217\n",
       " strong_sexual_content       0.230133\n",
       " suggestive_themes           0.505013\n",
       " use_of_drugs_and_alcohol    0.200869\n",
       " violence                    0.433693\n",
       " esrb_rating                 1.000000\n",
       " console                    -0.222928\n",
       " alcohol_reference          -0.149064\n",
       " cartoon_violence           -0.147907\n",
       " mild_cartoon_violence      -0.244987\n",
       " mild_fantasy_violence      -0.390240\n",
       " no_descriptors             -0.513035\n",
       " Name: esrb_rating, dtype: float64,\n",
       " 'pearson': blood                     0.944184\n",
       " blood_and_gore            0.635361\n",
       " drug_reference            0.758021\n",
       " intense_violence          0.248997\n",
       " language                  0.806818\n",
       " lyrics                    0.825201\n",
       " mature_humor              0.423164\n",
       " nudity                    0.676805\n",
       " partial_nudity            0.780080\n",
       " sexual_content            0.842149\n",
       " sexual_themes             0.844251\n",
       " simulated_gambling        0.805816\n",
       " strong_janguage           0.811497\n",
       " strong_sexual_content     0.383021\n",
       " suggestive_themes         0.647059\n",
       " violence                  0.717914\n",
       " esrb_rating               1.000000\n",
       " alcohol_reference        -0.799131\n",
       " animated_blood           -0.644051\n",
       " cartoon_violence         -0.743984\n",
       " crude_humor              -0.440508\n",
       " fantasy_violence         -0.217580\n",
       " mild_blood               -0.165775\n",
       " mild_cartoon_violence    -0.734291\n",
       " mild_fantasy_violence    -0.875334\n",
       " mild_language            -0.669786\n",
       " mild_lyrics              -0.328877\n",
       " mild_suggestive_themes   -0.532086\n",
       " mild_violence            -0.691176\n",
       " no_descriptors           -0.942513\n",
       " use_of_alcohol           -0.677473\n",
       " Name: esrb_rating, dtype: float64}"
      ]
     },
     "execution_count": 41,
     "metadata": {},
     "output_type": "execute_result"
    }
   ],
   "source": [
    "results_corr"
   ]
  },
  {
   "attachments": {},
   "cell_type": "markdown",
   "metadata": {},
   "source": [
    "## Seleção de colunas utilizando RFECV e RFE"
   ]
  },
  {
   "attachments": {},
   "cell_type": "markdown",
   "metadata": {},
   "source": [
    "### RFECV - Recursive feature elimination com Cross Validation"
   ]
  },
  {
   "cell_type": "code",
   "execution_count": 42,
   "metadata": {},
   "outputs": [],
   "source": [
    "# Para a entrada dos dados será efetuada uma técnica chamada de dummies\n",
    "x = pd.get_dummies(df.drop(['title', 'esrb_rating'], axis = 1).astype(str))\n",
    "y = df['esrb_rating']\n",
    "rfe_selector = RFECV(estimator = LogisticRegression(random_state=10)).fit(x, y)"
   ]
  },
  {
   "cell_type": "code",
   "execution_count": 43,
   "metadata": {},
   "outputs": [
    {
     "name": "stdout",
     "output_type": "stream",
     "text": [
      "Coluna selecionada: alcohol_reference_0\n",
      "Selecionada False\n",
      "Rank: 9\n",
      "\n",
      "Coluna selecionada: alcohol_reference_1\n",
      "Selecionada False\n",
      "Rank: 10\n",
      "\n",
      "Coluna selecionada: animated_blood_1\n",
      "Selecionada True\n",
      "Rank: 1\n",
      "\n",
      "Coluna selecionada: blood_0\n",
      "Selecionada True\n",
      "Rank: 1\n",
      "\n",
      "Coluna selecionada: blood_1\n",
      "Selecionada False\n",
      "Rank: 5\n",
      "\n",
      "Coluna selecionada: blood_and_gore_0\n",
      "Selecionada True\n",
      "Rank: 1\n",
      "\n",
      "Coluna selecionada: blood_and_gore_1\n",
      "Selecionada True\n",
      "Rank: 1\n",
      "\n",
      "Coluna selecionada: cartoon_violence_0\n",
      "Selecionada True\n",
      "Rank: 1\n",
      "\n",
      "Coluna selecionada: cartoon_violence_1\n",
      "Selecionada True\n",
      "Rank: 1\n",
      "\n",
      "Coluna selecionada: crude_humor_0\n",
      "Selecionada True\n",
      "Rank: 1\n",
      "\n",
      "Coluna selecionada: crude_humor_1\n",
      "Selecionada True\n",
      "Rank: 1\n",
      "\n",
      "Coluna selecionada: drug_reference_0\n",
      "Selecionada True\n",
      "Rank: 1\n",
      "\n",
      "Coluna selecionada: drug_reference_1\n",
      "Selecionada True\n",
      "Rank: 1\n",
      "\n",
      "Coluna selecionada: fantasy_violence_0\n",
      "Selecionada True\n",
      "Rank: 1\n",
      "\n",
      "Coluna selecionada: fantasy_violence_1\n",
      "Selecionada True\n",
      "Rank: 1\n",
      "\n",
      "Coluna selecionada: intense_violence_0\n",
      "Selecionada True\n",
      "Rank: 1\n",
      "\n",
      "Coluna selecionada: intense_violence_1\n",
      "Selecionada True\n",
      "Rank: 1\n",
      "\n",
      "Coluna selecionada: language_0\n",
      "Selecionada True\n",
      "Rank: 1\n",
      "\n",
      "Coluna selecionada: language_1\n",
      "Selecionada True\n",
      "Rank: 1\n",
      "\n",
      "Coluna selecionada: lyrics_0\n",
      "Selecionada True\n",
      "Rank: 1\n",
      "\n",
      "Coluna selecionada: lyrics_1\n",
      "Selecionada True\n",
      "Rank: 1\n",
      "\n",
      "Coluna selecionada: mild_blood_1\n",
      "Selecionada True\n",
      "Rank: 1\n",
      "\n",
      "Coluna selecionada: mild_cartoon_violence_0\n",
      "Selecionada True\n",
      "Rank: 1\n",
      "\n",
      "Coluna selecionada: mild_cartoon_violence_1\n",
      "Selecionada True\n",
      "Rank: 1\n",
      "\n",
      "Coluna selecionada: mild_fantasy_violence_0\n",
      "Selecionada False\n",
      "Rank: 3\n",
      "\n",
      "Coluna selecionada: mild_fantasy_violence_1\n",
      "Selecionada False\n",
      "Rank: 7\n",
      "\n",
      "Coluna selecionada: mild_language_0\n",
      "Selecionada False\n",
      "Rank: 2\n",
      "\n",
      "Coluna selecionada: mild_lyrics_0\n",
      "Selecionada True\n",
      "Rank: 1\n",
      "\n",
      "Coluna selecionada: mild_lyrics_1\n",
      "Selecionada True\n",
      "Rank: 1\n",
      "\n",
      "Coluna selecionada: mild_suggestive_themes_0\n",
      "Selecionada True\n",
      "Rank: 1\n",
      "\n",
      "Coluna selecionada: mild_suggestive_themes_1\n",
      "Selecionada True\n",
      "Rank: 1\n",
      "\n",
      "Coluna selecionada: mild_violence_0\n",
      "Selecionada True\n",
      "Rank: 1\n",
      "\n",
      "Coluna selecionada: mild_violence_1\n",
      "Selecionada True\n",
      "Rank: 1\n",
      "\n",
      "Coluna selecionada: no_descriptors_0\n",
      "Selecionada False\n",
      "Rank: 4\n",
      "\n",
      "Coluna selecionada: no_descriptors_1\n",
      "Selecionada True\n",
      "Rank: 1\n",
      "\n",
      "Coluna selecionada: nudity_1\n",
      "Selecionada True\n",
      "Rank: 1\n",
      "\n",
      "Coluna selecionada: partial_nudity_0\n",
      "Selecionada True\n",
      "Rank: 1\n",
      "\n",
      "Coluna selecionada: partial_nudity_1\n",
      "Selecionada True\n",
      "Rank: 1\n",
      "\n",
      "Coluna selecionada: sexual_content_0\n",
      "Selecionada True\n",
      "Rank: 1\n",
      "\n",
      "Coluna selecionada: sexual_content_1\n",
      "Selecionada True\n",
      "Rank: 1\n",
      "\n",
      "Coluna selecionada: sexual_themes_0\n",
      "Selecionada True\n",
      "Rank: 1\n",
      "\n",
      "Coluna selecionada: sexual_themes_1\n",
      "Selecionada True\n",
      "Rank: 1\n",
      "\n",
      "Coluna selecionada: simulated_gambling_0\n",
      "Selecionada False\n",
      "Rank: 8\n",
      "\n",
      "Coluna selecionada: simulated_gambling_1\n",
      "Selecionada True\n",
      "Rank: 1\n",
      "\n",
      "Coluna selecionada: strong_janguage_0\n",
      "Selecionada True\n",
      "Rank: 1\n",
      "\n",
      "Coluna selecionada: strong_janguage_1\n",
      "Selecionada True\n",
      "Rank: 1\n",
      "\n",
      "Coluna selecionada: strong_sexual_content_0\n",
      "Selecionada True\n",
      "Rank: 1\n",
      "\n",
      "Coluna selecionada: strong_sexual_content_1\n",
      "Selecionada True\n",
      "Rank: 1\n",
      "\n",
      "Coluna selecionada: suggestive_themes_0\n",
      "Selecionada True\n",
      "Rank: 1\n",
      "\n",
      "Coluna selecionada: suggestive_themes_1\n",
      "Selecionada True\n",
      "Rank: 1\n",
      "\n",
      "Coluna selecionada: use_of_alcohol_0\n",
      "Selecionada True\n",
      "Rank: 1\n",
      "\n",
      "Coluna selecionada: use_of_alcohol_1\n",
      "Selecionada True\n",
      "Rank: 1\n",
      "\n",
      "Coluna selecionada: violence_0\n",
      "Selecionada True\n",
      "Rank: 1\n",
      "\n",
      "Coluna selecionada: violence_1\n",
      "Selecionada True\n",
      "Rank: 1\n",
      "\n"
     ]
    }
   ],
   "source": [
    "for i in range(rfe_selector.get_feature_names_out().shape[0]):\n",
    "    print(f'Coluna selecionada: {rfe_selector.get_feature_names_out()[i]}\\nSelecionada {rfe_selector.support_[i]}\\nRank: {rfe_selector.ranking_[i]}\\n')"
   ]
  },
  {
   "attachments": {},
   "cell_type": "markdown",
   "metadata": {},
   "source": [
    "### RFE - Recursive feature elimination"
   ]
  },
  {
   "cell_type": "code",
   "execution_count": 44,
   "metadata": {},
   "outputs": [],
   "source": [
    "x = pd.get_dummies(df.drop(['title', 'esrb_rating'], axis = 1).astype(str))\n",
    "y = df['esrb_rating']\n",
    "rfe_selector = RFECV(estimator = LogisticRegression(random_state=10)).fit(x, y)"
   ]
  },
  {
   "cell_type": "code",
   "execution_count": 45,
   "metadata": {},
   "outputs": [
    {
     "name": "stdout",
     "output_type": "stream",
     "text": [
      "Coluna selecionada: alcohol_reference_0\n",
      "Selecionada False\n",
      "Rank: 9\n",
      "\n",
      "Coluna selecionada: alcohol_reference_1\n",
      "Selecionada False\n",
      "Rank: 10\n",
      "\n",
      "Coluna selecionada: animated_blood_1\n",
      "Selecionada True\n",
      "Rank: 1\n",
      "\n",
      "Coluna selecionada: blood_0\n",
      "Selecionada True\n",
      "Rank: 1\n",
      "\n",
      "Coluna selecionada: blood_1\n",
      "Selecionada False\n",
      "Rank: 5\n",
      "\n",
      "Coluna selecionada: blood_and_gore_0\n",
      "Selecionada True\n",
      "Rank: 1\n",
      "\n",
      "Coluna selecionada: blood_and_gore_1\n",
      "Selecionada True\n",
      "Rank: 1\n",
      "\n",
      "Coluna selecionada: cartoon_violence_0\n",
      "Selecionada True\n",
      "Rank: 1\n",
      "\n",
      "Coluna selecionada: cartoon_violence_1\n",
      "Selecionada True\n",
      "Rank: 1\n",
      "\n",
      "Coluna selecionada: crude_humor_0\n",
      "Selecionada True\n",
      "Rank: 1\n",
      "\n",
      "Coluna selecionada: crude_humor_1\n",
      "Selecionada True\n",
      "Rank: 1\n",
      "\n",
      "Coluna selecionada: drug_reference_0\n",
      "Selecionada True\n",
      "Rank: 1\n",
      "\n",
      "Coluna selecionada: drug_reference_1\n",
      "Selecionada True\n",
      "Rank: 1\n",
      "\n",
      "Coluna selecionada: fantasy_violence_0\n",
      "Selecionada True\n",
      "Rank: 1\n",
      "\n",
      "Coluna selecionada: fantasy_violence_1\n",
      "Selecionada True\n",
      "Rank: 1\n",
      "\n",
      "Coluna selecionada: intense_violence_0\n",
      "Selecionada True\n",
      "Rank: 1\n",
      "\n",
      "Coluna selecionada: intense_violence_1\n",
      "Selecionada True\n",
      "Rank: 1\n",
      "\n",
      "Coluna selecionada: language_0\n",
      "Selecionada True\n",
      "Rank: 1\n",
      "\n",
      "Coluna selecionada: language_1\n",
      "Selecionada True\n",
      "Rank: 1\n",
      "\n",
      "Coluna selecionada: lyrics_0\n",
      "Selecionada True\n",
      "Rank: 1\n",
      "\n",
      "Coluna selecionada: lyrics_1\n",
      "Selecionada True\n",
      "Rank: 1\n",
      "\n",
      "Coluna selecionada: mild_blood_1\n",
      "Selecionada True\n",
      "Rank: 1\n",
      "\n",
      "Coluna selecionada: mild_cartoon_violence_0\n",
      "Selecionada True\n",
      "Rank: 1\n",
      "\n",
      "Coluna selecionada: mild_cartoon_violence_1\n",
      "Selecionada True\n",
      "Rank: 1\n",
      "\n",
      "Coluna selecionada: mild_fantasy_violence_0\n",
      "Selecionada False\n",
      "Rank: 3\n",
      "\n",
      "Coluna selecionada: mild_fantasy_violence_1\n",
      "Selecionada False\n",
      "Rank: 7\n",
      "\n",
      "Coluna selecionada: mild_language_0\n",
      "Selecionada False\n",
      "Rank: 2\n",
      "\n",
      "Coluna selecionada: mild_lyrics_0\n",
      "Selecionada True\n",
      "Rank: 1\n",
      "\n",
      "Coluna selecionada: mild_lyrics_1\n",
      "Selecionada True\n",
      "Rank: 1\n",
      "\n",
      "Coluna selecionada: mild_suggestive_themes_0\n",
      "Selecionada True\n",
      "Rank: 1\n",
      "\n",
      "Coluna selecionada: mild_suggestive_themes_1\n",
      "Selecionada True\n",
      "Rank: 1\n",
      "\n",
      "Coluna selecionada: mild_violence_0\n",
      "Selecionada True\n",
      "Rank: 1\n",
      "\n",
      "Coluna selecionada: mild_violence_1\n",
      "Selecionada True\n",
      "Rank: 1\n",
      "\n",
      "Coluna selecionada: no_descriptors_0\n",
      "Selecionada False\n",
      "Rank: 4\n",
      "\n",
      "Coluna selecionada: no_descriptors_1\n",
      "Selecionada True\n",
      "Rank: 1\n",
      "\n",
      "Coluna selecionada: nudity_1\n",
      "Selecionada True\n",
      "Rank: 1\n",
      "\n",
      "Coluna selecionada: partial_nudity_0\n",
      "Selecionada True\n",
      "Rank: 1\n",
      "\n",
      "Coluna selecionada: partial_nudity_1\n",
      "Selecionada True\n",
      "Rank: 1\n",
      "\n",
      "Coluna selecionada: sexual_content_0\n",
      "Selecionada True\n",
      "Rank: 1\n",
      "\n",
      "Coluna selecionada: sexual_content_1\n",
      "Selecionada True\n",
      "Rank: 1\n",
      "\n",
      "Coluna selecionada: sexual_themes_0\n",
      "Selecionada True\n",
      "Rank: 1\n",
      "\n",
      "Coluna selecionada: sexual_themes_1\n",
      "Selecionada True\n",
      "Rank: 1\n",
      "\n",
      "Coluna selecionada: simulated_gambling_0\n",
      "Selecionada False\n",
      "Rank: 8\n",
      "\n",
      "Coluna selecionada: simulated_gambling_1\n",
      "Selecionada True\n",
      "Rank: 1\n",
      "\n",
      "Coluna selecionada: strong_janguage_0\n",
      "Selecionada True\n",
      "Rank: 1\n",
      "\n",
      "Coluna selecionada: strong_janguage_1\n",
      "Selecionada True\n",
      "Rank: 1\n",
      "\n",
      "Coluna selecionada: strong_sexual_content_0\n",
      "Selecionada True\n",
      "Rank: 1\n",
      "\n",
      "Coluna selecionada: strong_sexual_content_1\n",
      "Selecionada True\n",
      "Rank: 1\n",
      "\n",
      "Coluna selecionada: suggestive_themes_0\n",
      "Selecionada True\n",
      "Rank: 1\n",
      "\n",
      "Coluna selecionada: suggestive_themes_1\n",
      "Selecionada True\n",
      "Rank: 1\n",
      "\n",
      "Coluna selecionada: use_of_alcohol_0\n",
      "Selecionada True\n",
      "Rank: 1\n",
      "\n",
      "Coluna selecionada: use_of_alcohol_1\n",
      "Selecionada True\n",
      "Rank: 1\n",
      "\n",
      "Coluna selecionada: violence_0\n",
      "Selecionada True\n",
      "Rank: 1\n",
      "\n",
      "Coluna selecionada: violence_1\n",
      "Selecionada True\n",
      "Rank: 1\n",
      "\n"
     ]
    }
   ],
   "source": [
    "for i in range(rfe_selector.get_feature_names_out().shape[0]):\n",
    "    print(f'Coluna selecionada: {rfe_selector.get_feature_names_out()[i]}\\nSelecionada {rfe_selector.support_[i]}\\nRank: {rfe_selector.ranking_[i]}\\n')"
   ]
  }
 ],
 "metadata": {
  "kernelspec": {
   "display_name": "Python 3",
   "language": "python",
   "name": "python3"
  },
  "language_info": {
   "codemirror_mode": {
    "name": "ipython",
    "version": 3
   },
   "file_extension": ".py",
   "mimetype": "text/x-python",
   "name": "python",
   "nbconvert_exporter": "python",
   "pygments_lexer": "ipython3",
   "version": "3.11.3"
  },
  "orig_nbformat": 4
 },
 "nbformat": 4,
 "nbformat_minor": 2
}
